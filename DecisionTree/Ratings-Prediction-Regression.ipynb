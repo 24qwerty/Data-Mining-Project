{
 "cells": [
  {
   "cell_type": "code",
   "execution_count": null,
   "metadata": {
    "collapsed": true
   },
   "outputs": [],
   "source": [
    "import pandas as pd\n",
    "yelp_academic_dataset_business=\"review.json\"\n",
    "reviews=pd.read_json(yelp_academic_dataset_business,lines=True)"
   ]
  },
  {
   "cell_type": "code",
   "execution_count": null,
   "metadata": {
    "collapsed": true
   },
   "outputs": [],
   "source": [
    "b=pd.read_json(\"business.json\",lines=True)\n",
    "u=pd.read_json(\"users.json\",lines=True)"
   ]
  },
  {
   "cell_type": "code",
   "execution_count": null,
   "metadata": {},
   "outputs": [],
   "source": [
    "print(len(b),len(u))"
   ]
  },
  {
   "cell_type": "code",
   "execution_count": null,
   "metadata": {},
   "outputs": [],
   "source": [
    "u.columns\n",
    "#u.head()\n",
    "b.columns"
   ]
  },
  {
   "cell_type": "code",
   "execution_count": null,
   "metadata": {},
   "outputs": [],
   "source": [
    "reviews.columns"
   ]
  },
  {
   "cell_type": "code",
   "execution_count": null,
   "metadata": {
    "collapsed": true
   },
   "outputs": [],
   "source": [
    "u.set_index('user_id',inplace=True)\n",
    "ud=u.to_dict('index')"
   ]
  },
  {
   "cell_type": "code",
   "execution_count": null,
   "metadata": {
    "collapsed": true
   },
   "outputs": [],
   "source": [
    "bd=b.to_dict('records')"
   ]
  },
  {
   "cell_type": "code",
   "execution_count": null,
   "metadata": {
    "collapsed": true
   },
   "outputs": [],
   "source": [
    "def function1(row):\n",
    "    #print(row['user_id'])\n",
    "    try:\n",
    "        return ud[row['user_id']]['average_stars']\n",
    "    except:\n",
    "        return 0"
   ]
  },
  {
   "cell_type": "code",
   "execution_count": null,
   "metadata": {
    "collapsed": true
   },
   "outputs": [],
   "source": [
    "#a['average_stars_u']=a.apply(lambda x : function1(x),axis=1)"
   ]
  },
  {
   "cell_type": "code",
   "execution_count": null,
   "metadata": {
    "collapsed": true
   },
   "outputs": [],
   "source": [
    "reviews['average_stars_u']=reviews.apply(lambda x : function1(x),axis=1)"
   ]
  },
  {
   "cell_type": "code",
   "execution_count": null,
   "metadata": {
    "collapsed": true
   },
   "outputs": [],
   "source": [
    "def function2(row):\n",
    "    #print(row['user_id'])\n",
    "    try:\n",
    "        return ud[row['user_id']]['elite']\n",
    "    except:\n",
    "        return 0\n",
    "a['elite_u']=a.apply(lambda x : function2(x),axis=1)\n",
    "#reviews['elite_u']=reviews.apply(lambda x : function2(x),axis=1)"
   ]
  },
  {
   "cell_type": "code",
   "execution_count": null,
   "metadata": {
    "collapsed": true
   },
   "outputs": [],
   "source": [
    "def function3(row):\n",
    "    #print(row['user_id'])\n",
    "    try:\n",
    "        return ud[row['user_id']]['yelping_since']\n",
    "    except:\n",
    "        return 0\n",
    "\n",
    "reviews['yelping_since_u']=reviews.apply(lambda x : function3(x),axis=1)"
   ]
  },
  {
   "cell_type": "code",
   "execution_count": null,
   "metadata": {
    "collapsed": true
   },
   "outputs": [],
   "source": [
    "def function4(row):\n",
    "    #print(row['user_id'])\n",
    "    try:\n",
    "        return ud[row['user_id']]['fans']\n",
    "    except:\n",
    "        return 0\n",
    "# reviews['fans_u']=reviews.apply(lambda x : function4(x),axis=1)\n",
    "a['fans_u']=a.apply(lambda x : function4(x),axis=1)"
   ]
  },
  {
   "cell_type": "code",
   "execution_count": null,
   "metadata": {
    "collapsed": true
   },
   "outputs": [],
   "source": [
    "def function5(row):\n",
    "    #print(row['user_id'])\n",
    "    try:\n",
    "        return ud[row['user_id']]['friends']\n",
    "    except:\n",
    "        return 0\n",
    "reviews['friends_u']=reviews.apply(lambda x : function5(x),axis=1)"
   ]
  },
  {
   "cell_type": "code",
   "execution_count": null,
   "metadata": {
    "collapsed": true
   },
   "outputs": [],
   "source": [
    "\"\"\"'compliment_cool', 'compliment_cute',\n",
    "       'compliment_funny', 'compliment_hot', 'compliment_list',\n",
    "       'compliment_more', 'compliment_note', 'compliment_photos',\n",
    "       'compliment_plain', 'compliment_profile', 'compliment_writer', 'cool',\n",
    "       'elite', 'fans', 'friends', 'funny\"\"\"\n",
    "def function6(row):\n",
    "    #print(row['user_id'])\n",
    "    try:\n",
    "        l=['compliment_cool', 'compliment_cute',\n",
    "       'compliment_funny', 'compliment_hot', 'compliment_list',\n",
    "       'compliment_more', 'compliment_note', 'compliment_photos',\n",
    "       'compliment_plain', 'compliment_profile', 'compliment_writer', 'cool', 'funny']\n",
    "        a=0\n",
    "        for i in l:\n",
    "            a+=ud[row['user_id']][i]\n",
    "        return a\n",
    "    except:\n",
    "        return 0\n",
    "#reviews['votes_u']=reviews.apply(lambda x : function6(x),axis=1)\n",
    "a['votes_u']=a.apply(lambda x : function6(x),axis=1)"
   ]
  },
  {
   "cell_type": "code",
   "execution_count": null,
   "metadata": {
    "collapsed": true
   },
   "outputs": [],
   "source": [
    "def function7(row):\n",
    "    #print(row['user_id'])\n",
    "    try:\n",
    "        return ud[row['business_id']]['review_count']\n",
    "    except:\n",
    "        return 0\n",
    "# reviews['review_count_b']=reviews.apply(lambda x : function7(x),axis=1)\n",
    "a['review_count_b']=a.apply(lambda x : function7(x),axis=1)"
   ]
  },
  {
   "cell_type": "code",
   "execution_count": null,
   "metadata": {
    "collapsed": true
   },
   "outputs": [],
   "source": [
    "def function8(row):\n",
    "    #print(row['user_id'])\n",
    "    try:\n",
    "        return ud[row['business_id']]['stars']\n",
    "    except:\n",
    "        return 0\n",
    "#reviews['stars_b']=reviews.apply(lambda x : function8(x),axis=1)\n",
    "a['stars_b']=a.apply(lambda x : function8(x),axis=1)"
   ]
  },
  {
   "cell_type": "code",
   "execution_count": null,
   "metadata": {},
   "outputs": [],
   "source": [
    "reviews.head()"
   ]
  },
  {
   "cell_type": "code",
   "execution_count": null,
   "metadata": {},
   "outputs": [],
   "source": [
    "reviews.columns"
   ]
  },
  {
   "cell_type": "code",
   "execution_count": null,
   "metadata": {
    "collapsed": true
   },
   "outputs": [],
   "source": []
  },
  {
   "cell_type": "code",
   "execution_count": null,
   "metadata": {
    "collapsed": true
   },
   "outputs": [],
   "source": [
    "def function9(row):\n",
    "    #print(row['user_id'])\n",
    "    try:\n",
    "        if row['elite_u']=='None':\n",
    "            return 0\n",
    "        else:\n",
    "            return 1\n",
    "        #return row['elite_u']\n",
    "    except:\n",
    "        return 0\n",
    "#reviews['elite_u_2']=reviews.apply(lambda x : function9(x),axis=1)\n",
    "a['elite_u_2']=a.apply(lambda x : function9(x),axis=1)"
   ]
  },
  {
   "cell_type": "code",
   "execution_count": null,
   "metadata": {},
   "outputs": [],
   "source": [
    "a.head()"
   ]
  },
  {
   "cell_type": "code",
   "execution_count": null,
   "metadata": {
    "collapsed": true
   },
   "outputs": [],
   "source": [
    "training=reviews[reviews['date']<=\"2017-01-01\"]"
   ]
  },
  {
   "cell_type": "code",
   "execution_count": null,
   "metadata": {
    "collapsed": true
   },
   "outputs": [],
   "source": [
    "testing=reviews[reviews['date']>\"2017-01-01\"]"
   ]
  },
  {
   "cell_type": "code",
   "execution_count": null,
   "metadata": {
    "collapsed": true
   },
   "outputs": [],
   "source": [
    "training.to_csv(\"review_table_training.json\")\n",
    "testing.to_csv(\"review_table_testing.json\")"
   ]
  },
  {
   "cell_type": "code",
   "execution_count": null,
   "metadata": {},
   "outputs": [],
   "source": [
    "training=pd.read_csv(\"review_table_training.json\")\n",
    "testing=pd.read_csv(\"review_table_testing.json\")"
   ]
  },
  {
   "cell_type": "code",
   "execution_count": null,
   "metadata": {
    "collapsed": true
   },
   "outputs": [],
   "source": [
    "training=training.dropna()\n",
    "testing=testing.dropna()"
   ]
  },
  {
   "cell_type": "code",
   "execution_count": null,
   "metadata": {
    "collapsed": true
   },
   "outputs": [],
   "source": [
    "X_train=training[[\n",
    "       'average_stars_u', 'elite_u_2', \n",
    "       'fans_u', 'votes_u', 'review_count_b', 'stars_b']]\n",
    "y_train=training['stars']"
   ]
  },
  {
   "cell_type": "code",
   "execution_count": null,
   "metadata": {
    "collapsed": true
   },
   "outputs": [],
   "source": [
    "X_test=testing[[\n",
    "       'average_stars_u', 'elite_u_2', \n",
    "       'fans_u', 'votes_u', 'review_count_b', 'stars_b']]\n",
    "\n",
    "y_test=testing['stars']"
   ]
  },
  {
   "cell_type": "code",
   "execution_count": null,
   "metadata": {
    "collapsed": true
   },
   "outputs": [],
   "source": [
    "from sklearn.tree import DecisionTreeRegressor\n",
    "regressor = DecisionTreeRegressor()"
   ]
  },
  {
   "cell_type": "code",
   "execution_count": null,
   "metadata": {
    "collapsed": true
   },
   "outputs": [],
   "source": [
    "mp=regressor.fit(X_train,y_train)"
   ]
  },
  {
   "cell_type": "code",
   "execution_count": null,
   "metadata": {
    "collapsed": true
   },
   "outputs": [],
   "source": [
    "y6=regressor.predict(X_test)"
   ]
  },
  {
   "cell_type": "code",
   "execution_count": null,
   "metadata": {
    "collapsed": true
   },
   "outputs": [],
   "source": [
    "from sklearn.metrics import mean_squared_error"
   ]
  },
  {
   "cell_type": "code",
   "execution_count": null,
   "metadata": {},
   "outputs": [],
   "source": [
    "print(mean_squared_error(y_test, y6))"
   ]
  },
  {
   "cell_type": "code",
   "execution_count": null,
   "metadata": {
    "collapsed": true
   },
   "outputs": [],
   "source": [
    "a=pd.read_csv(\"subset_cross.csv\")"
   ]
  },
  {
   "cell_type": "code",
   "execution_count": null,
   "metadata": {
    "collapsed": true
   },
   "outputs": [],
   "source": [
    "a=a[['business_id','user_id']]"
   ]
  },
  {
   "cell_type": "code",
   "execution_count": null,
   "metadata": {},
   "outputs": [],
   "source": [
    "a.head()"
   ]
  },
  {
   "cell_type": "code",
   "execution_count": null,
   "metadata": {
    "collapsed": true
   },
   "outputs": [],
   "source": [
    "d={}"
   ]
  },
  {
   "cell_type": "code",
   "execution_count": null,
   "metadata": {},
   "outputs": [],
   "source": [
    "for i,r in a.iterrows():\n",
    "   \n",
    "    print(i)\n",
    "    e=[\n",
    "       r['average_stars_u'],r['elite_u_2'],\n",
    "       r['fans_u'], r['votes_u'], r['review_count_b'], r['stars_b']]\n",
    "    e=np.array(e).reshape(1,-1)\n",
    "    \n",
    "    y6=regressor.predict(e)\n",
    "    #print(d)\n",
    "    if r['business_id'] in d:\n",
    "        d[r['business_id']].append([r['user_id'],y6[0]])\n",
    "        \n",
    "        #print(d[r['business_id']])\n",
    "    else:\n",
    "        d[r['business_id']]=[]\n",
    "        #print([r['user_id'],y6[0]])\n",
    "        d[r['business_id']].append([r['user_id'],y6[0]])\n",
    "        #print(d[r['business_id']])"
   ]
  },
  {
   "cell_type": "code",
   "execution_count": null,
   "metadata": {},
   "outputs": [],
   "source": [
    "d['zdE82PiD6wquvjYLyhOJNA']"
   ]
  },
  {
   "cell_type": "code",
   "execution_count": null,
   "metadata": {
    "collapsed": true
   },
   "outputs": [],
   "source": [
    "import pickle\n",
    "with open('reg_d.pickle', 'wb') as handle:\n",
    "    pickle.dump(d, handle, protocol=pickle.HIGHEST_PROTOCOL)\n",
    "\n",
    "with open('reg_d.pickle', 'rb') as handle:\n",
    "    bt = pickle.load(handle)\n",
    "    "
   ]
  },
  {
   "cell_type": "code",
   "execution_count": null,
   "metadata": {},
   "outputs": [],
   "source": [
    "bt['zdE82PiD6wquvjYLyhOJNA']"
   ]
  },
  {
   "cell_type": "code",
   "execution_count": null,
   "metadata": {
    "collapsed": true
   },
   "outputs": [],
   "source": []
  },
  {
   "cell_type": "code",
   "execution_count": null,
   "metadata": {
    "collapsed": true
   },
   "outputs": [],
   "source": []
  },
  {
   "cell_type": "code",
   "execution_count": null,
   "metadata": {
    "collapsed": true
   },
   "outputs": [],
   "source": []
  },
  {
   "cell_type": "code",
   "execution_count": null,
   "metadata": {
    "collapsed": true
   },
   "outputs": [],
   "source": []
  }
 ],
 "metadata": {
  "kernelspec": {
   "display_name": "Python 3",
   "language": "python",
   "name": "python3"
  },
  "language_info": {
   "codemirror_mode": {
    "name": "ipython",
    "version": 3
   },
   "file_extension": ".py",
   "mimetype": "text/x-python",
   "name": "python",
   "nbconvert_exporter": "python",
   "pygments_lexer": "ipython3",
   "version": "3.6.1"
  }
 },
 "nbformat": 4,
 "nbformat_minor": 2
}
