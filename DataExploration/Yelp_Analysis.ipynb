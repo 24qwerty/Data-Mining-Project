{
 "cells": [
  {
   "cell_type": "markdown",
   "metadata": {},
   "source": [
    "### Importing Libraries"
   ]
  },
  {
   "cell_type": "code",
   "execution_count": 2,
   "metadata": {},
   "outputs": [],
   "source": [
    "#!pip install pyspark\n",
    "import pyspark\n",
    "from pyspark.sql import SQLContext, Row, column\n",
    "from pyspark.sql import SparkSession\n",
    "import matplotlib.pyplot as plt\n",
    "import pandas as pd\n",
    "import numpy as np"
   ]
  },
  {
   "cell_type": "markdown",
   "metadata": {},
   "source": [
    "### Defining Sparksession"
   ]
  },
  {
   "cell_type": "code",
   "execution_count": 5,
   "metadata": {},
   "outputs": [],
   "source": [
    "#sc = pyspark.SparkContext('local[*]')\n",
    "sqlContext = SQLContext(sc)\n",
    "spark = SparkSession \\\n",
    "    .builder \\\n",
    "    .appName(\"Yelp\") \\\n",
    "    .getOrCreate()\n",
    "sqlContext = SQLContext(sc)"
   ]
  },
  {
   "cell_type": "markdown",
   "metadata": {},
   "source": [
    "### Loading JSON files as Dataframes"
   ]
  },
  {
   "cell_type": "code",
   "execution_count": 7,
   "metadata": {},
   "outputs": [
    {
     "name": "stdout",
     "output_type": "stream",
     "text": [
      "root\n",
      " |-- address: string (nullable = true)\n",
      " |-- attributes: struct (nullable = true)\n",
      " |    |-- AcceptsInsurance: string (nullable = true)\n",
      " |    |-- AgesAllowed: string (nullable = true)\n",
      " |    |-- Alcohol: string (nullable = true)\n",
      " |    |-- Ambience: string (nullable = true)\n",
      " |    |-- BYOB: string (nullable = true)\n",
      " |    |-- BYOBCorkage: string (nullable = true)\n",
      " |    |-- BestNights: string (nullable = true)\n",
      " |    |-- BikeParking: string (nullable = true)\n",
      " |    |-- BusinessAcceptsBitcoin: string (nullable = true)\n",
      " |    |-- BusinessAcceptsCreditCards: string (nullable = true)\n",
      " |    |-- BusinessParking: string (nullable = true)\n",
      " |    |-- ByAppointmentOnly: string (nullable = true)\n",
      " |    |-- Caters: string (nullable = true)\n",
      " |    |-- CoatCheck: string (nullable = true)\n",
      " |    |-- Corkage: string (nullable = true)\n",
      " |    |-- DietaryRestrictions: string (nullable = true)\n",
      " |    |-- DogsAllowed: string (nullable = true)\n",
      " |    |-- DriveThru: string (nullable = true)\n",
      " |    |-- GoodForDancing: string (nullable = true)\n",
      " |    |-- GoodForKids: string (nullable = true)\n",
      " |    |-- GoodForMeal: string (nullable = true)\n",
      " |    |-- HairSpecializesIn: string (nullable = true)\n",
      " |    |-- HappyHour: string (nullable = true)\n",
      " |    |-- HasTV: string (nullable = true)\n",
      " |    |-- Music: string (nullable = true)\n",
      " |    |-- NoiseLevel: string (nullable = true)\n",
      " |    |-- Open24Hours: string (nullable = true)\n",
      " |    |-- OutdoorSeating: string (nullable = true)\n",
      " |    |-- RestaurantsAttire: string (nullable = true)\n",
      " |    |-- RestaurantsCounterService: string (nullable = true)\n",
      " |    |-- RestaurantsDelivery: string (nullable = true)\n",
      " |    |-- RestaurantsGoodForGroups: string (nullable = true)\n",
      " |    |-- RestaurantsPriceRange2: string (nullable = true)\n",
      " |    |-- RestaurantsReservations: string (nullable = true)\n",
      " |    |-- RestaurantsTableService: string (nullable = true)\n",
      " |    |-- RestaurantsTakeOut: string (nullable = true)\n",
      " |    |-- Smoking: string (nullable = true)\n",
      " |    |-- WheelchairAccessible: string (nullable = true)\n",
      " |    |-- WiFi: string (nullable = true)\n",
      " |-- business_id: string (nullable = true)\n",
      " |-- categories: string (nullable = true)\n",
      " |-- city: string (nullable = true)\n",
      " |-- hours: struct (nullable = true)\n",
      " |    |-- Friday: string (nullable = true)\n",
      " |    |-- Monday: string (nullable = true)\n",
      " |    |-- Saturday: string (nullable = true)\n",
      " |    |-- Sunday: string (nullable = true)\n",
      " |    |-- Thursday: string (nullable = true)\n",
      " |    |-- Tuesday: string (nullable = true)\n",
      " |    |-- Wednesday: string (nullable = true)\n",
      " |-- is_open: long (nullable = true)\n",
      " |-- latitude: double (nullable = true)\n",
      " |-- longitude: double (nullable = true)\n",
      " |-- name: string (nullable = true)\n",
      " |-- neighborhood: string (nullable = true)\n",
      " |-- postal_code: string (nullable = true)\n",
      " |-- review_count: long (nullable = true)\n",
      " |-- stars: double (nullable = true)\n",
      " |-- state: string (nullable = true)\n",
      "\n"
     ]
    }
   ],
   "source": [
    "sqlContext = SQLContext(sc)\n",
    "business = \"yelp_academic_dataset_business.json\"\n",
    "checkin = \"yelp_academic_dataset_checkin.json\"\n",
    "review = \"yelp_academic_dataset_review.json\"\n",
    "tip = \"yelp_academic_dataset_tip.json\"\n",
    "\n",
    "df_business = sqlContext.read.json(business)\n",
    "#df_checkin = sqlContext.read.json(checkin)\n",
    "#df_review = sqlContext.read.json(review)\n",
    "#df_tip = sqlContext.read.json(tip)\n",
    "\n",
    "df_business.printSchema()"
   ]
  },
  {
   "cell_type": "markdown",
   "metadata": {},
   "source": [
    "### City with Most Number of Restaurants"
   ]
  },
  {
   "cell_type": "code",
   "execution_count": 168,
   "metadata": {},
   "outputs": [
    {
     "data": {
      "text/html": [
       "<div>\n",
       "<style scoped>\n",
       "    .dataframe tbody tr th:only-of-type {\n",
       "        vertical-align: middle;\n",
       "    }\n",
       "\n",
       "    .dataframe tbody tr th {\n",
       "        vertical-align: top;\n",
       "    }\n",
       "\n",
       "    .dataframe thead th {\n",
       "        text-align: right;\n",
       "    }\n",
       "</style>\n",
       "<table border=\"1\" class=\"dataframe\">\n",
       "  <thead>\n",
       "    <tr style=\"text-align: right;\">\n",
       "      <th></th>\n",
       "      <th>city</th>\n",
       "      <th>total_count</th>\n",
       "    </tr>\n",
       "  </thead>\n",
       "  <tbody>\n",
       "    <tr>\n",
       "      <th>0</th>\n",
       "      <td>Las Vegas</td>\n",
       "      <td>28865</td>\n",
       "    </tr>\n",
       "    <tr>\n",
       "      <th>1</th>\n",
       "      <td>Phoenix</td>\n",
       "      <td>18633</td>\n",
       "    </tr>\n",
       "    <tr>\n",
       "      <th>2</th>\n",
       "      <td>Toronto</td>\n",
       "      <td>18233</td>\n",
       "    </tr>\n",
       "    <tr>\n",
       "      <th>3</th>\n",
       "      <td>Charlotte</td>\n",
       "      <td>9204</td>\n",
       "    </tr>\n",
       "    <tr>\n",
       "      <th>4</th>\n",
       "      <td>Scottsdale</td>\n",
       "      <td>8822</td>\n",
       "    </tr>\n",
       "    <tr>\n",
       "      <th>5</th>\n",
       "      <td>Calgary</td>\n",
       "      <td>7384</td>\n",
       "    </tr>\n",
       "    <tr>\n",
       "      <th>6</th>\n",
       "      <td>Pittsburgh</td>\n",
       "      <td>6804</td>\n",
       "    </tr>\n",
       "    <tr>\n",
       "      <th>7</th>\n",
       "      <td>Mesa</td>\n",
       "      <td>6239</td>\n",
       "    </tr>\n",
       "    <tr>\n",
       "      <th>8</th>\n",
       "      <td>Montréal</td>\n",
       "      <td>6045</td>\n",
       "    </tr>\n",
       "    <tr>\n",
       "      <th>9</th>\n",
       "      <td>Henderson</td>\n",
       "      <td>4815</td>\n",
       "    </tr>\n",
       "  </tbody>\n",
       "</table>\n",
       "</div>"
      ],
      "text/plain": [
       "         city  total_count\n",
       "0   Las Vegas        28865\n",
       "1     Phoenix        18633\n",
       "2     Toronto        18233\n",
       "3   Charlotte         9204\n",
       "4  Scottsdale         8822\n",
       "5     Calgary         7384\n",
       "6  Pittsburgh         6804\n",
       "7        Mesa         6239\n",
       "8    Montréal         6045\n",
       "9   Henderson         4815"
      ]
     },
     "execution_count": 168,
     "metadata": {},
     "output_type": "execute_result"
    }
   ],
   "source": [
    "tmp = df_business.groupBy(\"city\").count()\n",
    "tmp = tmp.orderBy(\"count\", ascending=False)\n",
    "tmp = tmp.withColumnRenamed('count', 'total_count')\n",
    "tmp = tmp.toPandas()\n",
    "tmp.describe()\n",
    "tmp.head(10)"
   ]
  },
  {
   "cell_type": "markdown",
   "metadata": {},
   "source": [
    "### States with Top Restaurant Counts"
   ]
  },
  {
   "cell_type": "code",
   "execution_count": 120,
   "metadata": {},
   "outputs": [
    {
     "data": {
      "text/html": [
       "<div>\n",
       "<style scoped>\n",
       "    .dataframe tbody tr th:only-of-type {\n",
       "        vertical-align: middle;\n",
       "    }\n",
       "\n",
       "    .dataframe tbody tr th {\n",
       "        vertical-align: top;\n",
       "    }\n",
       "\n",
       "    .dataframe thead th {\n",
       "        text-align: right;\n",
       "    }\n",
       "</style>\n",
       "<table border=\"1\" class=\"dataframe\">\n",
       "  <thead>\n",
       "    <tr style=\"text-align: right;\">\n",
       "      <th></th>\n",
       "      <th>state</th>\n",
       "      <th>total_count</th>\n",
       "    </tr>\n",
       "  </thead>\n",
       "  <tbody>\n",
       "    <tr>\n",
       "      <th>0</th>\n",
       "      <td>AZ</td>\n",
       "      <td>56495</td>\n",
       "    </tr>\n",
       "    <tr>\n",
       "      <th>1</th>\n",
       "      <td>NV</td>\n",
       "      <td>35688</td>\n",
       "    </tr>\n",
       "    <tr>\n",
       "      <th>2</th>\n",
       "      <td>ON</td>\n",
       "      <td>32393</td>\n",
       "    </tr>\n",
       "    <tr>\n",
       "      <th>3</th>\n",
       "      <td>NC</td>\n",
       "      <td>14359</td>\n",
       "    </tr>\n",
       "    <tr>\n",
       "      <th>4</th>\n",
       "      <td>OH</td>\n",
       "      <td>13664</td>\n",
       "    </tr>\n",
       "    <tr>\n",
       "      <th>5</th>\n",
       "      <td>PA</td>\n",
       "      <td>10966</td>\n",
       "    </tr>\n",
       "    <tr>\n",
       "      <th>6</th>\n",
       "      <td>QC</td>\n",
       "      <td>8756</td>\n",
       "    </tr>\n",
       "    <tr>\n",
       "      <th>7</th>\n",
       "      <td>AB</td>\n",
       "      <td>7670</td>\n",
       "    </tr>\n",
       "    <tr>\n",
       "      <th>8</th>\n",
       "      <td>WI</td>\n",
       "      <td>5042</td>\n",
       "    </tr>\n",
       "    <tr>\n",
       "      <th>9</th>\n",
       "      <td>IL</td>\n",
       "      <td>1937</td>\n",
       "    </tr>\n",
       "  </tbody>\n",
       "</table>\n",
       "</div>"
      ],
      "text/plain": [
       "  state  total_count\n",
       "0    AZ        56495\n",
       "1    NV        35688\n",
       "2    ON        32393\n",
       "3    NC        14359\n",
       "4    OH        13664\n",
       "5    PA        10966\n",
       "6    QC         8756\n",
       "7    AB         7670\n",
       "8    WI         5042\n",
       "9    IL         1937"
      ]
     },
     "execution_count": 120,
     "metadata": {},
     "output_type": "execute_result"
    }
   ],
   "source": [
    "tmp = df_business.groupBy(\"state\").count()\n",
    "tmp = tmp.orderBy(\"count\", ascending=False)\n",
    "tmp = tmp.withColumnRenamed('count', 'total_count')\n",
    "tmp = tmp.toPandas()\n",
    "tmp.describe()\n",
    "tmp.head(10)"
   ]
  },
  {
   "cell_type": "markdown",
   "metadata": {},
   "source": [
    "### Number of Reviews per Restaurant"
   ]
  },
  {
   "cell_type": "code",
   "execution_count": 8,
   "metadata": {},
   "outputs": [],
   "source": [
    "review_df = sqlContext.read.json(review)\n",
    "review_df = review_df.na.drop()\n",
    "#rdd = review_df.rdd.map(tuple)\n",
    "review_df = review_df.groupBy(\"business_id\").count()\n",
    "review_df = review_df.withColumnRenamed('count', 'review_count')\n",
    "review_df = review_df.sort(\"review_count\", ascending=False)"
   ]
  },
  {
   "cell_type": "code",
   "execution_count": 33,
   "metadata": {},
   "outputs": [
    {
     "name": "stdout",
     "output_type": "stream",
     "text": [
      "+--------------------+------------+\n",
      "|         business_id|review_count|\n",
      "+--------------------+------------+\n",
      "|4JNXUYY8wbaaDmk3B...|        7968|\n",
      "|RESDUcs7fIiihp38-...|        7861|\n",
      "|K7lWdNUhCbcnEvI0N...|        6447|\n",
      "|cYwJA2A6I12KNkm2r...|        5472|\n",
      "|f4x1YBxkLrZg652xt...|        5382|\n",
      "+--------------------+------------+\n",
      "only showing top 5 rows\n",
      "\n"
     ]
    }
   ],
   "source": [
    "review_df.show(5)"
   ]
  },
  {
   "cell_type": "markdown",
   "metadata": {},
   "source": [
    "### Review Counts less than 100"
   ]
  },
  {
   "cell_type": "code",
   "execution_count": 10,
   "metadata": {},
   "outputs": [
    {
     "data": {
      "text/plain": [
       "business_id     163426\n",
       "review_count    163426\n",
       "dtype: int64"
      ]
     },
     "execution_count": 10,
     "metadata": {},
     "output_type": "execute_result"
    }
   ],
   "source": [
    "tmp = review_df.toPandas()\n",
    "tmp = tmp[tmp.review_count<50]\n",
    "tmp.count()"
   ]
  },
  {
   "cell_type": "code",
   "execution_count": 11,
   "metadata": {},
   "outputs": [
    {
     "data": {
      "image/png": "[encoded data removed]",
      "text/plain": [
       "<Figure size 432x288 with 1 Axes>"
      ]
     },
     "metadata": {},
     "output_type": "display_data"
    }
   ],
   "source": [
    "tmp = review_df.toPandas()\n",
    "tmp = tmp[tmp.review_count<100]\n",
    "plt.hist(tmp[\"review_count\"], bins=20)\n",
    "plt.ylabel('No of times')\n",
    "plt.show()"
   ]
  },
  {
   "cell_type": "markdown",
   "metadata": {},
   "source": [
    "### Number of Tips per Restaurant"
   ]
  },
  {
   "cell_type": "code",
   "execution_count": 12,
   "metadata": {},
   "outputs": [],
   "source": [
    "tip_df = sqlContext.read.json(tip)\n",
    "tip_df = tip_df.na.drop()\n",
    "tip_df = tip_df.groupBy(\"business_id\").count()\n",
    "tip_df = tip_df.withColumnRenamed('count', 'tip_count')\n",
    "tip_df = tip_df.sort(\"tip_count\", ascending=False)"
   ]
  },
  {
   "cell_type": "code",
   "execution_count": 13,
   "metadata": {},
   "outputs": [
    {
     "name": "stdout",
     "output_type": "stream",
     "text": [
      "+--------------------+---------+\n",
      "|         business_id|tip_count|\n",
      "+--------------------+---------+\n",
      "|FaHADZARwnY4yvlvp...|     3581|\n",
      "|JmI9nslLD7KZqRr__...|     2420|\n",
      "|DkYS3arLOhA8si5uU...|     1492|\n",
      "|5LNZ67Yw9RD6nf4_U...|     1467|\n",
      "|hihud--QRriCYZw1z...|     1428|\n",
      "+--------------------+---------+\n",
      "only showing top 5 rows\n",
      "\n"
     ]
    }
   ],
   "source": [
    "tip_df.show(5)"
   ]
  },
  {
   "cell_type": "code",
   "execution_count": 17,
   "metadata": {},
   "outputs": [
    {
     "data": {
      "text/plain": [
       "business_id    117265\n",
       "tip_count      117265\n",
       "dtype: int64"
      ]
     },
     "execution_count": 17,
     "metadata": {},
     "output_type": "execute_result"
    }
   ],
   "source": [
    "tmp = tip_df.toPandas()\n",
    "tmp = tmp[tmp.tip_count<50]\n",
    "tmp.count()"
   ]
  },
  {
   "cell_type": "code",
   "execution_count": 71,
   "metadata": {},
   "outputs": [
    {
     "data": {
      "image/png": "[encoded data removed]",
      "text/plain": [
       "<Figure size 432x288 with 1 Axes>"
      ]
     },
     "metadata": {},
     "output_type": "display_data"
    }
   ],
   "source": [
    "tmp = tip_df.toPandas()\n",
    "tmp = tmp[tmp.tip_count<100]\n",
    "plt.hist(tmp[\"tip_count\"], bins=20)\n",
    "plt.ylabel('No of times')\n",
    "plt.show()"
   ]
  },
  {
   "cell_type": "markdown",
   "metadata": {},
   "source": [
    "### Number of Checkins per Restaurant"
   ]
  },
  {
   "cell_type": "code",
   "execution_count": 18,
   "metadata": {},
   "outputs": [
    {
     "name": "stdout",
     "output_type": "stream",
     "text": [
      "+--------------------+-------------+\n",
      "|         business_id|checkin_count|\n",
      "+--------------------+-------------+\n",
      "|FaHADZARwnY4yvlvp...|       138477|\n",
      "|JmI9nslLD7KZqRr__...|       118185|\n",
      "|yQab5dxZzgBLTEHCw...|        52675|\n",
      "|5LNZ67Yw9RD6nf4_U...|        45416|\n",
      "|IZivKqtHyz4-ts8Ks...|        36327|\n",
      "+--------------------+-------------+\n",
      "only showing top 5 rows\n",
      "\n"
     ]
    }
   ],
   "source": [
    "def process_tuple(tup):\n",
    "    business_id = tup[0]\n",
    "    time = tup[1]\n",
    "    summ=0\n",
    "    for val in time:\n",
    "        if val != None:\n",
    "            summ+=val\n",
    "    return Row(business_id=business_id,checkin_count=summ)\n",
    "    \n",
    "checkin_df = sqlContext.read.json(checkin) # business_id is primary key\n",
    "rdd = checkin_df.rdd.map(tuple)\n",
    "rdd = rdd.map(process_tuple)\n",
    "checkin_df = spark.createDataFrame(rdd)\n",
    "checkin_df = checkin_df.sort(\"checkin_count\", ascending=False)\n",
    "checkin_df.show(5)"
   ]
  },
  {
   "cell_type": "code",
   "execution_count": 19,
   "metadata": {},
   "outputs": [
    {
     "data": {
      "text/plain": [
       "business_id      112081\n",
       "checkin_count    112081\n",
       "dtype: int64"
      ]
     },
     "execution_count": 19,
     "metadata": {},
     "output_type": "execute_result"
    }
   ],
   "source": [
    "tmp = checkin_df.toPandas()\n",
    "tmp = tmp[tmp.checkin_count<50]\n",
    "tmp.count()"
   ]
  },
  {
   "cell_type": "code",
   "execution_count": 72,
   "metadata": {},
   "outputs": [
    {
     "data": {
      "image/png": "[encoded data removed]",
      "text/plain": [
       "<Figure size 432x288 with 1 Axes>"
      ]
     },
     "metadata": {},
     "output_type": "display_data"
    }
   ],
   "source": [
    "tmp = checkin_df.toPandas()\n",
    "tmp = tmp[tmp.checkin_count<100]\n",
    "plt.hist(tmp[\"checkin_count\"], bins=20)\n",
    "plt.ylabel('No of times')\n",
    "plt.show()"
   ]
  },
  {
   "cell_type": "markdown",
   "metadata": {},
   "source": [
    "### Joined Review, Tip and Checkin counts"
   ]
  },
  {
   "cell_type": "code",
   "execution_count": 75,
   "metadata": {},
   "outputs": [
    {
     "name": "stdout",
     "output_type": "stream",
     "text": [
      "+--------------------+-------------+---------+\n",
      "|         business_id|checkin_count|tip_count|\n",
      "+--------------------+-------------+---------+\n",
      "|--9e1ONYQuAa-CB_R...|         2699|      154|\n",
      "|-6c_bJblLXUwoWfmY...|            7|        2|\n",
      "|-ElDqujEn1u64ynQr...|            2|        1|\n",
      "|-I06hkMFrX0KBqu61...|           37|        1|\n",
      "|-TGwtTiieh_JLml5_...|           52|        6|\n",
      "+--------------------+-------------+---------+\n",
      "only showing top 5 rows\n",
      "\n"
     ]
    }
   ],
   "source": [
    "#Joining results\n",
    "ta = checkin_df.alias('ta')\n",
    "tb = tip_df.alias('tb')\n",
    "#tc = review_df.alias('tc')\n",
    "innerJoin = ta.join(tb, ta.business_id == tb.business_id).drop(tb.business_id)\n",
    "#innerJoin = innerJoin.join(tc, innerJoin.business_id == tc.business_id).drop(tc.business_id)\n",
    "innerJoin.show(5)"
   ]
  },
  {
   "cell_type": "code",
   "execution_count": 22,
   "metadata": {},
   "outputs": [
    {
     "data": {
      "text/plain": [
       "address         188593\n",
       "attributes      162807\n",
       "business_id     188593\n",
       "categories      188052\n",
       "city            188593\n",
       "hours           143791\n",
       "is_open         188593\n",
       "latitude        188587\n",
       "longitude       188587\n",
       "name            188593\n",
       "neighborhood    188593\n",
       "postal_code     188593\n",
       "review_count    188593\n",
       "stars           188593\n",
       "state           188593\n",
       "dtype: int64"
      ]
     },
     "execution_count": 22,
     "metadata": {},
     "output_type": "execute_result"
    }
   ],
   "source": [
    "business_df = sqlContext.read.json(business)\n",
    "business_df.toPandas().count()\n"
   ]
  },
  {
   "cell_type": "code",
   "execution_count": 76,
   "metadata": {},
   "outputs": [
    {
     "name": "stdout",
     "output_type": "stream",
     "text": [
      "+--------------------+-------------+---------+--------------------+--------------------+--------------------+-------------+--------------------+-------+----------+-----------+--------------------+------------+-----------+------------+-----+-----+\n",
      "|         business_id|checkin_count|tip_count|             address|          attributes|          categories|         city|               hours|is_open|  latitude|  longitude|                name|neighborhood|postal_code|review_count|stars|state|\n",
      "+--------------------+-------------+---------+--------------------+--------------------+--------------------+-------------+--------------------+-------+----------+-----------+--------------------+------------+-----------+------------+-----+-----+\n",
      "|--9e1ONYQuAa-CB_R...|         2699|      154|3355 Las Vegas Bl...|[,, full_bar, {'r...|Steakhouses, Rest...|    Las Vegas|[11:30-14:0, 11:3...|      1| 36.123183| -115.16919|Delmonico Steakhouse|   The Strip|      89109|        1546|  4.0|   NV|\n",
      "|-TGwtTiieh_JLml5_...|           52|        6|  10520 Yonge Street|[,,,,,,, True,, T...|  Food, Coffee & Tea|Richmond Hill|[6:0-21:30, 6:0-2...|      1| 43.884114| -79.441195|           Starbucks|            |    L4C 3C7|           8|  3.5|   ON|\n",
      "|-VAsjhmAbKF3Pb_-8...|           31|        2|850 Rue Sainte-Ca...|[,, none, {'roman...|Fast Food, Burger...|     Montréal|[0:0-0:0, 0:0-0:0...|      1| 45.515767| -73.558392|          McDonald's| Ville-Marie|    H2L 2E2|          10|  2.0|   QC|\n",
      "|-cxD1NimFldATDUsN...|          101|        8|4500 W Tropicana Ave|[,, full_bar, {'r...|Mexican, Restaurants|    Las Vegas|[16:0-23:0,, 16:0...|      0| 36.102737|-115.202016|      Coasta Cantina|            |      89103|          23|  2.0|   NV|\n",
      "|-qL-wX-UuMaHDBA2X...|           53|        3|   9393 East Bell Rd|[,,,,,,,,, True,,...|Wheel & Rim Repai...|   Scottsdale|[7:0-19:0, 7:0-19...|      1|33.6391283|-111.879235|           The Thumb|            |      85260|          72|  4.0|   AZ|\n",
      "+--------------------+-------------+---------+--------------------+--------------------+--------------------+-------------+--------------------+-------+----------+-----------+--------------------+------------+-----------+------------+-----+-----+\n",
      "only showing top 5 rows\n",
      "\n"
     ]
    }
   ],
   "source": [
    "business_df = sqlContext.read.json(business)\n",
    "ta = innerJoin.alias('ta')\n",
    "tb = business_df.alias('tb')\n",
    "bigTable = ta.join(tb, ta.business_id == tb.business_id).drop(tb.business_id)\n",
    "bigTable = bigTable.na.drop()\n",
    "bigTable.show(5)"
   ]
  },
  {
   "cell_type": "code",
   "execution_count": 77,
   "metadata": {},
   "outputs": [
    {
     "name": "stdout",
     "output_type": "stream",
     "text": [
      "+--------------------+------------------+-----------------+--------------+\n",
      "|                city|sum(checkin_count)|sum(review_count)|sum(tip_count)|\n",
      "+--------------------+------------------+-----------------+--------------+\n",
      "|         Middlefield|               264|              184|            30|\n",
      "|       Harrison City|                93|               75|            24|\n",
      "|Saint-Marc-sur-Ri...|                 8|                8|             1|\n",
      "|               Tempe|            555236|           156245|         34103|\n",
      "|          Harrisburg|              2845|             1140|           301|\n",
      "|        Sainte-Adele|                 7|                6|             2|\n",
      "|      Île des Soeurs|                86|               43|            12|\n",
      "|     North Las Vegas|            113382|            35578|          9285|\n",
      "|        Saint-Hubert|                71|               86|            21|\n",
      "|       Lawrenceville|               488|              208|            40|\n",
      "|         C Las Vegas|               489|               44|            18|\n",
      "|         Wilkinsburg|               117|               83|            19|\n",
      "|              Auburn|                 7|                4|             1|\n",
      "|Saint-Bernard de ...|                16|                4|             1|\n",
      "|             Phoenix|           1832561|           537364|        117629|\n",
      "|        West Mifflin|              2810|              962|           235|\n",
      "|               Savoy|              1787|              573|            88|\n",
      "|          Georgetown|               305|              210|            45|\n",
      "|      Upper St Clair|               180|              109|            23|\n",
      "|           Brunswick|              2395|             1192|           244|\n",
      "+--------------------+------------------+-----------------+--------------+\n",
      "only showing top 20 rows\n",
      "\n"
     ]
    }
   ],
   "source": [
    "sum_cols = ['checkin_count', 'review_count','tip_count']\n",
    "review_checkin_tip = bigTable.groupBy('city').sum(*sum_cols)"
   ]
  },
  {
   "cell_type": "code",
   "execution_count": 79,
   "metadata": {},
   "outputs": [
    {
     "name": "stdout",
     "output_type": "stream",
     "text": [
      "+--------------------+------------+\n",
      "|         business_id|review_count|\n",
      "+--------------------+------------+\n",
      "|4JNXUYY8wbaaDmk3B...|        7968|\n",
      "|RESDUcs7fIiihp38-...|        7861|\n",
      "|K7lWdNUhCbcnEvI0N...|        6447|\n",
      "|cYwJA2A6I12KNkm2r...|        5472|\n",
      "|f4x1YBxkLrZg652xt...|        5382|\n",
      "+--------------------+------------+\n",
      "only showing top 5 rows\n",
      "\n"
     ]
    }
   ],
   "source": [
    "review_df.show(5)"
   ]
  },
  {
   "cell_type": "code",
   "execution_count": null,
   "metadata": {},
   "outputs": [],
   "source": []
  }
 ],
 "metadata": {
  "kernelspec": {
   "display_name": "Python 3",
   "language": "python",
   "name": "python3"
  },
  "language_info": {
   "codemirror_mode": {
    "name": "ipython",
    "version": 3
   },
   "file_extension": ".py",
   "mimetype": "text/x-python",
   "name": "python",
   "nbconvert_exporter": "python",
   "pygments_lexer": "ipython3",
   "version": "3.6.5"
  }
 },
 "nbformat": 4,
 "nbformat_minor": 2
}
