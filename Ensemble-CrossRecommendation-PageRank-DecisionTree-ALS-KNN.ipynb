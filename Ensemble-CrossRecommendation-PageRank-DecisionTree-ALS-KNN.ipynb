{
 "cells": [
  {
   "cell_type": "code",
   "execution_count": 48,
   "metadata": {
    "collapsed": true
   },
   "outputs": [],
   "source": [
    "import numpy as np"
   ]
  },
  {
   "cell_type": "code",
   "execution_count": 49,
   "metadata": {
    "collapsed": true
   },
   "outputs": [],
   "source": [
    "import pickle\n",
    "# with open('/Users/shaily/Desktop/Fall2018/Data_Mining/Project/Sample_data/Yelp_Updated_Data/b_dict_train_t.pickle', 'wb') as handle:\n",
    "#     pickle.dump(b_dict, handle, protocol=pickle.HIGHEST_PROTOCOL)\n",
    "\n",
    "with open('/Users/shaily/Desktop/Fall2018/Data_Mining/Project/Sample_data/Yelp_Updated_Data/b_dict_train_t.pickle', 'rb') as handle:\n",
    "    bt_t = pickle.load(handle)\n",
    "    \n",
    "# with open('/Users/shaily/Desktop/Fall2018/Data_Mining/Project/Sample_data/Yelp_Updated_Data/u_dict_train_t.pickle', 'wb') as handle:\n",
    "#     pickle.dump(u_dict, handle, protocol=pickle.HIGHEST_PROTOCOL)\n",
    "\n",
    "with open('/Users/shaily/Desktop/Fall2018/Data_Mining/Project/Sample_data/Yelp_Updated_Data/u_dict_train_t.pickle', 'rb') as handle:\n",
    "    ut_t = pickle.load(handle)"
   ]
  },
  {
   "cell_type": "code",
   "execution_count": 50,
   "metadata": {
    "collapsed": true
   },
   "outputs": [],
   "source": [
    "# with open('/Users/shaily/Desktop/Fall2018/Data_Mining/Project/Sample_data/Yelp_Updated_Data/b_dict_test_t.pickle', 'wb') as handle:\n",
    "#     pickle.dump(b_dict_test, handle, protocol=pickle.HIGHEST_PROTOCOL)\n",
    "\n",
    "with open('/Users/shaily/Desktop/Fall2018/Data_Mining/Project/Sample_data/Yelp_Updated_Data/b_dict_test_t.pickle', 'rb') as handle:\n",
    "    bt_test_t = pickle.load(handle)\n",
    "    \n",
    "# with open('/Users/shaily/Desktop/Fall2018/Data_Mining/Project/Sample_data/Yelp_Updated_Data/u_dict_test_t.pickle', 'wb') as handle:\n",
    "#     pickle.dump(u_dict_test, handle, protocol=pickle.HIGHEST_PROTOCOL)\n",
    "\n",
    "with open('/Users/shaily/Desktop/Fall2018/Data_Mining/Project/Sample_data/Yelp_Updated_Data/u_dict_test_t.pickle', 'rb') as handle:\n",
    "    ut_test_t = pickle.load(handle)"
   ]
  },
  {
   "cell_type": "code",
   "execution_count": 51,
   "metadata": {
    "collapsed": true
   },
   "outputs": [],
   "source": [
    "with open('/Users/shaily/Desktop/Fall2018/Data_Mining/Project/Sample_data/Yelp_Updated_Data/b_dict_train.pickle', 'rb') as handle:\n",
    "    bt = pickle.load(handle)\n",
    "    \n",
    "# with open('/Users/shaily/Desktop/Fall2018/Data_Mining/Project/Sample_data/Yelp_Updated_Data/u_dict_train_t.pickle', 'wb') as handle:\n",
    "#     pickle.dump(u_dict, handle, protocol=pickle.HIGHEST_PROTOCOL)\n",
    "\n",
    "with open('/Users/shaily/Desktop/Fall2018/Data_Mining/Project/Sample_data/Yelp_Updated_Data/u_dict_train.pickle', 'rb') as handle:\n",
    "    ut = pickle.load(handle)\n",
    "with open('/Users/shaily/Desktop/Fall2018/Data_Mining/Project/Sample_data/Yelp_Updated_Data/b_dict_test.pickle', 'rb') as handle:\n",
    "    bt_test = pickle.load(handle)\n",
    "    \n",
    "# with open('/Users/shaily/Desktop/Fall2018/Data_Mining/Project/Sample_data/Yelp_Updated_Data/u_dict_test_t.pickle', 'wb') as handle:\n",
    "#     pickle.dump(u_dict_test, handle, protocol=pickle.HIGHEST_PROTOCOL)\n",
    "\n",
    "with open('/Users/shaily/Desktop/Fall2018/Data_Mining/Project/Sample_data/Yelp_Updated_Data/u_dict_test.pickle', 'rb') as handle:\n",
    "    ut_test = pickle.load(handle)"
   ]
  },
  {
   "cell_type": "code",
   "execution_count": 52,
   "metadata": {
    "collapsed": true
   },
   "outputs": [],
   "source": [
    "import networkx as nx"
   ]
  },
  {
   "cell_type": "code",
   "execution_count": 53,
   "metadata": {
    "collapsed": true
   },
   "outputs": [],
   "source": [
    "G=nx.Graph()"
   ]
  },
  {
   "cell_type": "code",
   "execution_count": 54,
   "metadata": {
    "collapsed": true
   },
   "outputs": [],
   "source": [
    "G.add_nodes_from(list(bt.keys()))"
   ]
  },
  {
   "cell_type": "code",
   "execution_count": 55,
   "metadata": {
    "collapsed": true
   },
   "outputs": [],
   "source": [
    "G.add_nodes_from(list(ut.keys()))"
   ]
  },
  {
   "cell_type": "code",
   "execution_count": 56,
   "metadata": {
    "collapsed": true
   },
   "outputs": [],
   "source": [
    "b=list(bt.keys())\n",
    "for i in range(0,len(bt.keys())):\n",
    "    bu=bt[b[i]]\n",
    "    for f in bu:\n",
    "        G.add_edge(f,b[i])"
   ]
  },
  {
   "cell_type": "code",
   "execution_count": 57,
   "metadata": {
    "collapsed": true
   },
   "outputs": [],
   "source": [
    "b=list(bt.keys())\n",
    "for i in range(0,len(bt.keys())):\n",
    "    bu=bt_t[b[i]]\n",
    "    for f in bu:\n",
    "        G.add_edge(f,b[i])"
   ]
  },
  {
   "cell_type": "code",
   "execution_count": 58,
   "metadata": {},
   "outputs": [
    {
     "data": {
      "text/plain": [
       "359007"
      ]
     },
     "execution_count": 58,
     "metadata": {},
     "output_type": "execute_result"
    }
   ],
   "source": [
    "G.number_of_nodes()"
   ]
  },
  {
   "cell_type": "code",
   "execution_count": 59,
   "metadata": {},
   "outputs": [
    {
     "data": {
      "text/plain": [
       "871648"
      ]
     },
     "execution_count": 59,
     "metadata": {},
     "output_type": "execute_result"
    }
   ],
   "source": [
    "G.number_of_edges()"
   ]
  },
  {
   "cell_type": "code",
   "execution_count": 60,
   "metadata": {
    "collapsed": true
   },
   "outputs": [],
   "source": [
    "pr = nx.pagerank(G, alpha=0.8,max_iter=200)"
   ]
  },
  {
   "cell_type": "code",
   "execution_count": null,
   "metadata": {
    "collapsed": true
   },
   "outputs": [],
   "source": []
  },
  {
   "cell_type": "code",
   "execution_count": 61,
   "metadata": {
    "collapsed": true
   },
   "outputs": [],
   "source": [
    "b=list(bt.keys())\n",
    "user_test=set(list(ut_test.keys()))\n",
    "ut2=set(list(ut_test_t.keys()))\n",
    "user_test=user_test.union(ut2)\n",
    "recommendation_b2={}"
   ]
  },
  {
   "cell_type": "code",
   "execution_count": null,
   "metadata": {
    "collapsed": true
   },
   "outputs": [],
   "source": []
  },
  {
   "cell_type": "code",
   "execution_count": 62,
   "metadata": {},
   "outputs": [],
   "source": [
    "b_dict=bt\n",
    "for i in range(0,len(b_dict.keys())):\n",
    "    #print(i)\n",
    "    for j in range(i+1,len(b_dict.keys())):\n",
    "        \n",
    "        intersection=b_dict[b[i]].intersection(b_dict[b[j]])\n",
    "        \n",
    "        if len(intersection)>1000:\n",
    "            diff1=b_dict[b[i]].difference(b_dict[b[j]])\n",
    "            diff11=bt_t[b[i]].difference(bt_t[b[j]])\n",
    "            diff1=diff1.union(diff11)\n",
    "            if b[j] in recommendation_b2 :\n",
    "                for m in diff1:\n",
    "                    if(m in user_test):\n",
    "                        if m in recommendation_b2[b[j]]:\n",
    "                            recommendation_b2[b[j]][m]+=150#len(intersection)\n",
    "                        else:\n",
    "                            recommendation_b2[b[j]][m]=150#len(intersection)\n",
    "            else:\n",
    "                recommendation_b2[b[j]]={}\n",
    "                for m in diff1:\n",
    "                    if(m in user_test):\n",
    "                        recommendation_b2[b[j]][m]=150#len(intersection)\n",
    "        \n",
    "            diff2=b_dict[b[j]].difference(b_dict[b[i]])\n",
    "            diff22=bt_t[b[j]].difference(bt_t[b[i]])\n",
    "            diff2=diff2.union(diff22)\n",
    "            if b[i] in recommendation_b2:\n",
    "                for m in diff2:\n",
    "                    if(m in user_test):\n",
    "                        if m in recommendation_b2[b[i]]:\n",
    "                            recommendation_b2[b[i]][m]+=150#len(intersection)\n",
    "                        else:\n",
    "                            recommendation_b2[b[i]][m]=150#len(intersection)\n",
    "            else:\n",
    "                recommendation_b2[b[i]]={}\n",
    "                for m in diff2:\n",
    "                    if(m in user_test):\n",
    "                        recommendation_b2[b[i]][m]=150#len(intersection)\n",
    "        elif len(intersection)>500:\n",
    "            diff1=b_dict[b[i]].difference(b_dict[b[j]])\n",
    "            diff11=bt_t[b[i]].difference(bt_t[b[j]])\n",
    "            diff1=diff1.union(diff11)\n",
    "            if b[j] in recommendation_b2 :\n",
    "                for m in diff1:\n",
    "                    if(m in user_test):\n",
    "                        if m in recommendation_b2[b[j]]:\n",
    "                            recommendation_b2[b[j]][m]+=50#len(intersection)\n",
    "                        else:\n",
    "                            recommendation_b2[b[j]][m]=50#len(intersection)\n",
    "            else:\n",
    "                recommendation_b2[b[j]]={}\n",
    "                for m in diff1:\n",
    "                    if(m in user_test):\n",
    "                        recommendation_b2[b[j]][m]=50#len(intersection)\n",
    "        \n",
    "            diff2=b_dict[b[j]].difference(b_dict[b[i]])\n",
    "            diff22=bt_t[b[j]].difference(bt_t[b[i]])\n",
    "            diff2=diff2.union(diff22)\n",
    "            if b[i] in recommendation_b2:\n",
    "                for m in diff2:\n",
    "                    if(m in user_test):\n",
    "                        if m in recommendation_b2[b[i]]:\n",
    "                            recommendation_b2[b[i]][m]+=50#len(intersection)\n",
    "                        else:\n",
    "                            recommendation_b2[b[i]][m]=50#len(intersection)\n",
    "            else:\n",
    "                recommendation_b2[b[i]]={}\n",
    "                for m in diff2:\n",
    "                    if(m in user_test):\n",
    "                        recommendation_b2[b[i]][m]=50#len(intersection)\n",
    "        elif len(intersection)>100:\n",
    "            diff1=b_dict[b[i]].difference(b_dict[b[j]])\n",
    "            diff11=bt_t[b[i]].difference(bt_t[b[j]])\n",
    "            diff1=diff1.union(diff11)\n",
    "            if b[j] in recommendation_b2:\n",
    "                for m in diff1:\n",
    "                    if(m in user_test):\n",
    "                        \n",
    "                        if m in recommendation_b2[b[j]]:\n",
    "                            recommendation_b2[b[j]][m]+=15#len(intersection)\n",
    "                        else:\n",
    "                            recommendation_b2[b[j]][m]=15#len(intersection)\n",
    "            else:\n",
    "                \n",
    "                recommendation_b2[b[j]]={}\n",
    "                for m in diff1:\n",
    "                    \n",
    "                    if(m in user_test):\n",
    "                        recommendation_b2[b[j]][m]=15#len(intersection)\n",
    "        \n",
    "            diff2=b_dict[b[j]].difference(b_dict[b[i]])\n",
    "            diff22=bt_t[b[j]].difference(bt_t[b[i]])\n",
    "            diff2=diff2.union(diff22)\n",
    "            if b[i] in recommendation_b2:\n",
    "                for m in diff2:\n",
    "                    if(m in user_test):\n",
    "                        if m in recommendation_b2[b[i]]:\n",
    "                            recommendation_b2[b[i]][m]+=15#len(intersection)\n",
    "                        else:\n",
    "                            recommendation_b2[b[i]][m]=15#len(intersection)\n",
    "            else:\n",
    "                recommendation_b2[b[i]]={}\n",
    "                for m in diff2:\n",
    "                    if(m in user_test):\n",
    "                        recommendation_b2[b[i]][m]=15#len(intersection)\n",
    "        elif len(intersection)>50:\n",
    "            diff1=b_dict[b[i]].difference(b_dict[b[j]])\n",
    "            diff11=bt_t[b[i]].difference(bt_t[b[j]])\n",
    "            diff1=diff1.union(diff11)\n",
    "            if b[j] in recommendation_b2:\n",
    "                for m in diff1:\n",
    "                    if(m in user_test):\n",
    "                        if m in recommendation_b2[b[j]]:\n",
    "                            recommendation_b2[b[j]][m]+=1#len(intersection)\n",
    "                        else:\n",
    "                            recommendation_b2[b[j]][m]=1#len(intersection)\n",
    "            else:\n",
    "                recommendation_b2[b[j]]={}\n",
    "                for m in diff1:\n",
    "                    if(m in user_test):\n",
    "                        recommendation_b2[b[j]][m]=1#len(intersection)\n",
    "        \n",
    "            diff2=b_dict[b[j]].difference(b_dict[b[i]])\n",
    "            diff22=bt_t[b[j]].difference(bt_t[b[i]])\n",
    "            diff2=diff2.union(diff22)\n",
    "            if b[i] in recommendation_b2:\n",
    "                for m in diff2:\n",
    "                    if(m in user_test):\n",
    "                        if m in recommendation_b2[b[i]]:\n",
    "                            recommendation_b2[b[i]][m]+=1#len(intersection)\n",
    "                        else:\n",
    "                            recommendation_b2[b[i]][m]=1#len(intersection)\n",
    "            else:\n",
    "                recommendation_b2[b[i]]={}\n",
    "                for m in diff2:\n",
    "                    if(m in user_test):\n",
    "                        recommendation_b2[b[i]][m]=1#len(intersection)"
   ]
  },
  {
   "cell_type": "code",
   "execution_count": 63,
   "metadata": {
    "collapsed": true
   },
   "outputs": [],
   "source": [
    "ll=[]\n",
    "\n",
    "for i in recommendation_b2:\n",
    "    for j in recommendation_b2[i]:\n",
    "        ll.append([i,j])"
   ]
  },
  {
   "cell_type": "code",
   "execution_count": 18,
   "metadata": {
    "collapsed": true
   },
   "outputs": [],
   "source": [
    "import pandas as pd\n",
    "ll2=pd.DataFrame(ll,columns=['business_id','user_id'])"
   ]
  },
  {
   "cell_type": "code",
   "execution_count": 19,
   "metadata": {
    "collapsed": true
   },
   "outputs": [],
   "source": [
    "#ll2.to_csv(\"/Users/shaily/Desktop/Fall2018/Data_Mining/Project/Sample_data/Yelp_Updated_Data/subset_cross.csv\")"
   ]
  },
  {
   "cell_type": "code",
   "execution_count": 20,
   "metadata": {},
   "outputs": [
    {
     "data": {
      "text/plain": [
       "696"
      ]
     },
     "execution_count": 20,
     "metadata": {},
     "output_type": "execute_result"
    }
   ],
   "source": [
    "bussiness=set(recommendation_b2.keys()).intersection(set(bt_test.keys()))\n",
    "bussiness2=set(recommendation_b2.keys()).intersection(set(bt_test_t.keys()))\n",
    "#bussiness=bussiness.union(bussiness2)\n",
    "bussiness=bussiness.intersection(bussiness2)\n",
    "len(bussiness)"
   ]
  },
  {
   "cell_type": "code",
   "execution_count": 21,
   "metadata": {
    "collapsed": true
   },
   "outputs": [],
   "source": [
    "cross_pagerank_precision_2=[]\n",
    "pagerank_precision_2=[]\n",
    "cross_pagerank_recall_2=[]\n",
    "pagerank_recall_2=[]"
   ]
  },
  {
   "cell_type": "code",
   "execution_count": 22,
   "metadata": {
    "collapsed": true
   },
   "outputs": [],
   "source": [
    "def a1(lk):\n",
    "    correct=0\n",
    "    s=0\n",
    "    n=0\n",
    "    s1=0\n",
    "    n1=0\n",
    "    for b in bussiness:\n",
    "        l=list(recommendation_b2[b].items())\n",
    "\n",
    "        l=sorted(l,key=lambda x: -(x[1])-(pr[x[0]]*100000))\n",
    "        selected2=set(l[0:100])\n",
    "        selected=set()\n",
    "        for r in selected2:\n",
    "            selected.add(r[0])\n",
    "        actual=set(bt_test[b]).union(set(bt_test_t[b]))\n",
    "\n",
    "        if len(selected.intersection(actual))>lk:#len(selected)/2:\n",
    "            s1+=len(b_dict[b])\n",
    "            n1+=1\n",
    "            #print(len(selected.intersection(actual)),len(selected),len(actual),\"------\")\n",
    "            correct+=1\n",
    "        else:\n",
    "            s+=len(b_dict[b])\n",
    "            #print(len(selected.intersection(actual)),len(selected),len(actual))\n",
    "            n+=1\n",
    "    cross_pagerank_precision_2.append(n1/(n1+n))\n",
    "    correct=0\n",
    "    s=0\n",
    "    n=0\n",
    "    s1=0\n",
    "    n1=0\n",
    "    for b in bussiness:\n",
    "        l=list(recommendation_b2[b].items())\n",
    "\n",
    "        l=sorted(l,key=lambda x: -(x[1])-(pr[x[0]]*100000))\n",
    "        selected2=set(l[0:])\n",
    "        selected=set()\n",
    "        for r in selected2:\n",
    "            selected.add(r[0])\n",
    "        actual=set(bt_test[b]).union(set(bt_test_t[b]))\n",
    "\n",
    "        if len(selected.intersection(actual))>lk:#len(selected)/2:\n",
    "            s1+=len(b_dict[b])\n",
    "            n1+=1\n",
    "            #print(len(selected.intersection(actual)),len(selected),len(actual),\"------\")\n",
    "            correct+=1\n",
    "        else:\n",
    "            s+=len(b_dict[b])\n",
    "            #print(len(selected.intersection(actual)),len(selected),len(actual))\n",
    "            n+=1\n",
    "    cross_pagerank_recall_2.append(n1/(n1+n))"
   ]
  },
  {
   "cell_type": "code",
   "execution_count": 23,
   "metadata": {
    "collapsed": true
   },
   "outputs": [],
   "source": [
    "def b1(lk):\n",
    "    correct=0\n",
    "    s=0\n",
    "    n=0\n",
    "    s1=0\n",
    "    n1=0\n",
    "    for b in bussiness:\n",
    "        l=list(recommendation_b2[b].items())\n",
    "\n",
    "        l=sorted(l,key=lambda x: -(pr[x[0]]*100000))\n",
    "        selected2=set(l[0:100])\n",
    "        selected=set()\n",
    "        for r in selected2:\n",
    "            selected.add(r[0])\n",
    "        actual=set(bt_test[b]).union(set(bt_test_t[b]))\n",
    "\n",
    "        if len(selected.intersection(actual))>lk:#len(selected)/2:\n",
    "            s1+=len(b_dict[b])\n",
    "            n1+=1\n",
    "            #print(len(selected.intersection(actual)),len(selected),len(actual),\"------\")\n",
    "            correct+=1\n",
    "        else:\n",
    "            s+=len(b_dict[b])\n",
    "            #print(len(selected.intersection(actual)),len(selected),len(actual))\n",
    "            n+=1\n",
    "    pagerank_precision_2.append(n1/(n1+n))\n",
    "    correct=0\n",
    "    s=0\n",
    "    n=0\n",
    "    s1=0\n",
    "    n1=0\n",
    "    for b in bussiness:\n",
    "        l=list(recommendation_b2[b].items())\n",
    "\n",
    "        l=sorted(l,key=lambda x: -(pr[x[0]]*100000))\n",
    "        selected2=set(l[0:])\n",
    "        selected=set()\n",
    "        for r in selected2:\n",
    "            selected.add(r[0])\n",
    "        actual=set(bt_test[b]).union(set(bt_test_t[b]))\n",
    "\n",
    "        if len(selected.intersection(actual))>lk:#len(selected)/2:\n",
    "            s1+=len(b_dict[b])\n",
    "            n1+=1\n",
    "           # print(len(selected.intersection(actual)),len(selected),len(actual),\"------\")\n",
    "            correct+=1\n",
    "        else:\n",
    "            s+=len(b_dict[b])\n",
    "            #print(len(selected.intersection(actual)),len(selected),len(actual))\n",
    "            n+=1\n",
    "    pagerank_recall_2.append(n1/(n1+n))"
   ]
  },
  {
   "cell_type": "code",
   "execution_count": 24,
   "metadata": {
    "collapsed": true
   },
   "outputs": [],
   "source": [
    "for i in range(4,-1,-1):\n",
    "    a1(i)\n",
    "    b1(i)"
   ]
  },
  {
   "cell_type": "code",
   "execution_count": null,
   "metadata": {
    "collapsed": true
   },
   "outputs": [],
   "source": []
  },
  {
   "cell_type": "code",
   "execution_count": null,
   "metadata": {
    "collapsed": true
   },
   "outputs": [],
   "source": []
  },
  {
   "cell_type": "code",
   "execution_count": null,
   "metadata": {
    "collapsed": true
   },
   "outputs": [],
   "source": []
  },
  {
   "cell_type": "code",
   "execution_count": 25,
   "metadata": {
    "collapsed": true
   },
   "outputs": [],
   "source": [
    "# With decision tree results\n",
    "cross_pagerank_precision_2_1=[]\n",
    "pagerank_precision_2_1=[]\n",
    "cross_pagerank_recall_2_1=[]\n",
    "pagerank_recall_2_1=[]"
   ]
  },
  {
   "cell_type": "code",
   "execution_count": 26,
   "metadata": {
    "collapsed": true
   },
   "outputs": [],
   "source": [
    "import pickle\n",
    "with open('/Users/shaily/Desktop/Fall2018/Data_Mining/Project/Sample_data/Yelp_Updated_Data/reg_d.pickle', 'rb') as handle:\n",
    "    bt = pickle.load(handle)"
   ]
  },
  {
   "cell_type": "code",
   "execution_count": 27,
   "metadata": {
    "collapsed": true
   },
   "outputs": [],
   "source": [
    "bt2={}\n",
    "for b in bt:\n",
    "    bt2[b]={}\n",
    "    f={}\n",
    "    for i in bt[b]:\n",
    "        f[i[0]]=i[1]\n",
    "    bt2[b]=f"
   ]
  },
  {
   "cell_type": "code",
   "execution_count": 28,
   "metadata": {},
   "outputs": [],
   "source": [
    "def a1(lk):\n",
    "    correct=0\n",
    "    s=0\n",
    "    n=0\n",
    "    s1=0\n",
    "    n1=0\n",
    "    for b in bussiness:\n",
    "        l=list(recommendation_b2[b].items())\n",
    "        \n",
    "        l=sorted(l,key=lambda x: -(x[1])-(pr[x[0]]*100000)-bt2[b][x[0]])\n",
    "        selected2=set(l[0:100])\n",
    "        selected=set()\n",
    "        for r in selected2:\n",
    "            selected.add(r[0])\n",
    "        actual=set(bt_test[b]).union(set(bt_test_t[b]))\n",
    "\n",
    "        if len(selected.intersection(actual))>lk:#len(selected)/2:\n",
    "            s1+=len(b_dict[b])\n",
    "            n1+=1\n",
    "            #print(len(selected.intersection(actual)),len(selected),len(actual),\"------\")\n",
    "            correct+=1\n",
    "        else:\n",
    "            s+=len(b_dict[b])\n",
    "            #print(len(selected.intersection(actual)),len(selected),len(actual))\n",
    "            n+=1\n",
    "    cross_pagerank_precision_2_1.append(n1/(n1+n))\n",
    "    correct=0\n",
    "    s=0\n",
    "    n=0\n",
    "    s1=0\n",
    "    n1=0\n",
    "    for b in bussiness:\n",
    "        l=list(recommendation_b2[b].items())\n",
    "\n",
    "        l=sorted(l,key=lambda x: -(x[1])-(pr[x[0]]*100000)-bt2[b][x[0]])\n",
    "        selected2=set(l[0:])\n",
    "        selected=set()\n",
    "        for r in selected2:\n",
    "            selected.add(r[0])\n",
    "        actual=set(bt_test[b]).union(set(bt_test_t[b]))\n",
    "\n",
    "        if len(selected.intersection(actual))>lk:#len(selected)/2:\n",
    "            s1+=len(b_dict[b])\n",
    "            n1+=1\n",
    "            #print(len(selected.intersection(actual)),len(selected),len(actual),\"------\")\n",
    "            correct+=1\n",
    "        else:\n",
    "            s+=len(b_dict[b])\n",
    "            #print(len(selected.intersection(actual)),len(selected),len(actual))\n",
    "            n+=1\n",
    "    cross_pagerank_recall_2_1.append(n1/(n1+n))"
   ]
  },
  {
   "cell_type": "code",
   "execution_count": 29,
   "metadata": {
    "collapsed": true
   },
   "outputs": [],
   "source": [
    "def b1(lk):\n",
    "    correct=0\n",
    "    s=0\n",
    "    n=0\n",
    "    s1=0\n",
    "    n1=0\n",
    "    for b in bussiness:\n",
    "        l=list(recommendation_b2[b].items())\n",
    "\n",
    "        l=sorted(l,key=lambda x: -(pr[x[0]]*100000))\n",
    "        selected2=set(l[0:100])\n",
    "        selected=set()\n",
    "        for r in selected2:\n",
    "            selected.add(r[0])\n",
    "        actual=set(bt_test[b]).union(set(bt_test_t[b]))\n",
    "\n",
    "        if len(selected.intersection(actual))>lk:#len(selected)/2:\n",
    "            s1+=len(b_dict[b])\n",
    "            n1+=1\n",
    "            #print(len(selected.intersection(actual)),len(selected),len(actual),\"------\")\n",
    "            correct+=1\n",
    "        else:\n",
    "            s+=len(b_dict[b])\n",
    "            #print(len(selected.intersection(actual)),len(selected),len(actual))\n",
    "            n+=1\n",
    "    pagerank_precision_2_1.append(n1/(n1+n))\n",
    "    correct=0\n",
    "    s=0\n",
    "    n=0\n",
    "    s1=0\n",
    "    n1=0\n",
    "    for b in bussiness:\n",
    "        l=list(recommendation_b2[b].items())\n",
    "\n",
    "        l=sorted(l,key=lambda x: -(pr[x[0]]*100000))\n",
    "        selected2=set(l[0:])\n",
    "        selected=set()\n",
    "        for r in selected2:\n",
    "            selected.add(r[0])\n",
    "        actual=set(bt_test[b]).union(set(bt_test_t[b]))\n",
    "\n",
    "        if len(selected.intersection(actual))>lk:#len(selected)/2:\n",
    "            s1+=len(b_dict[b])\n",
    "            n1+=1\n",
    "           # print(len(selected.intersection(actual)),len(selected),len(actual),\"------\")\n",
    "            correct+=1\n",
    "        else:\n",
    "            s+=len(b_dict[b])\n",
    "            #print(len(selected.intersection(actual)),len(selected),len(actual))\n",
    "            n+=1\n",
    "    pagerank_recall_2_1.append(n1/(n1+n))"
   ]
  },
  {
   "cell_type": "code",
   "execution_count": 30,
   "metadata": {},
   "outputs": [
    {
     "name": "stdout",
     "output_type": "stream",
     "text": [
      "4\n",
      "3\n",
      "2\n",
      "1\n",
      "0\n"
     ]
    }
   ],
   "source": [
    "for i in range(4,-1,-1):\n",
    "    print(i)\n",
    "    a1(i)\n",
    "    b1(i)"
   ]
  },
  {
   "cell_type": "code",
   "execution_count": 31,
   "metadata": {
    "collapsed": true
   },
   "outputs": [],
   "source": [
    "# Only Decision Tree Results\n",
    "cross_pagerank_precision_2_11=[]\n",
    "pagerank_precision_2_11=[]\n",
    "cross_pagerank_recall_2_11=[]\n",
    "pagerank_recall_2_11=[]"
   ]
  },
  {
   "cell_type": "code",
   "execution_count": 32,
   "metadata": {
    "collapsed": true
   },
   "outputs": [],
   "source": [
    "def a1(lk):\n",
    "    correct=0\n",
    "    s=0\n",
    "    n=0\n",
    "    s1=0\n",
    "    n1=0\n",
    "    for b in bussiness:\n",
    "        l=list(recommendation_b2[b].items())\n",
    "        \n",
    "        l=sorted(l,key=lambda x: -bt2[b][x[0]])\n",
    "        selected2=set(l[0:100])\n",
    "        selected=set()\n",
    "        for r in selected2:\n",
    "            selected.add(r[0])\n",
    "        actual=set(bt_test[b]).union(set(bt_test_t[b]))\n",
    "\n",
    "        if len(selected.intersection(actual))>lk:#len(selected)/2:\n",
    "            s1+=len(b_dict[b])\n",
    "            n1+=1\n",
    "            #print(len(selected.intersection(actual)),len(selected),len(actual),\"------\")\n",
    "            correct+=1\n",
    "        else:\n",
    "            s+=len(b_dict[b])\n",
    "            #print(len(selected.intersection(actual)),len(selected),len(actual))\n",
    "            n+=1\n",
    "    cross_pagerank_precision_2_11.append(n1/(n1+n))\n",
    "    correct=0\n",
    "    s=0\n",
    "    n=0\n",
    "    s1=0\n",
    "    n1=0\n",
    "    for b in bussiness:\n",
    "        l=list(recommendation_b2[b].items())\n",
    "\n",
    "        l=sorted(l,key=lambda x: -bt2[b][x[0]])\n",
    "        selected2=set(l[0:])\n",
    "        selected=set()\n",
    "        for r in selected2:\n",
    "            selected.add(r[0])\n",
    "        actual=set(bt_test[b]).union(set(bt_test_t[b]))\n",
    "\n",
    "        if len(selected.intersection(actual))>lk:#len(selected)/2:\n",
    "            s1+=len(b_dict[b])\n",
    "            n1+=1\n",
    "            #print(len(selected.intersection(actual)),len(selected),len(actual),\"------\")\n",
    "            correct+=1\n",
    "        else:\n",
    "            s+=len(b_dict[b])\n",
    "            #print(len(selected.intersection(actual)),len(selected),len(actual))\n",
    "            n+=1\n",
    "    cross_pagerank_recall_2_11.append(n1/(n1+n))"
   ]
  },
  {
   "cell_type": "code",
   "execution_count": 33,
   "metadata": {},
   "outputs": [
    {
     "name": "stdout",
     "output_type": "stream",
     "text": [
      "4\n",
      "3\n",
      "2\n",
      "1\n",
      "0\n"
     ]
    }
   ],
   "source": [
    "for i in range(4,-1,-1):\n",
    "    print(i)\n",
    "    a1(i)\n"
   ]
  },
  {
   "cell_type": "code",
   "execution_count": 163,
   "metadata": {
    "collapsed": true
   },
   "outputs": [],
   "source": [
    "# With only ALS\n",
    "with open('/Users/shaily/Desktop/Fall2018/Data_Mining/Project/Sample_data/Yelp_Updated_Data/ratingDictionary1.pickle', 'rb') as handle:\n",
    "    btt = pickle.load(handle)"
   ]
  },
  {
   "cell_type": "code",
   "execution_count": 164,
   "metadata": {
    "collapsed": true
   },
   "outputs": [],
   "source": [
    "cross_pagerank_precision_2_117=[]\n",
    "pagerank_precision_2_117=[]\n",
    "cross_pagerank_recall_2_117=[]\n",
    "pagerank_recall_2_117=[]"
   ]
  },
  {
   "cell_type": "code",
   "execution_count": 166,
   "metadata": {},
   "outputs": [],
   "source": [
    "def a1(lk):\n",
    "    correct=0\n",
    "    s=0\n",
    "    n=0\n",
    "    s1=0\n",
    "    n1=0\n",
    "    for b in bussiness:\n",
    "        l=list(recommendation_b2[b].items())\n",
    "        \n",
    "        l=sorted(l,key=lambda x:  -btt[b][x[0]] if x[0] in btt[b] else 0)\n",
    "        selected2=set(l[0:100])\n",
    "        selected=set()\n",
    "        for r in selected2:\n",
    "            selected.add(r[0])\n",
    "        actual=set(bt_test[b]).union(set(bt_test_t[b]))\n",
    "\n",
    "        if len(selected.intersection(actual))>lk:#len(selected)/2:\n",
    "            s1+=len(b_dict[b])\n",
    "            n1+=1\n",
    "            #print(len(selected.intersection(actual)),len(selected),len(actual),\"------\")\n",
    "            correct+=1\n",
    "        else:\n",
    "            s+=len(b_dict[b])\n",
    "            #print(len(selected.intersection(actual)),len(selected),len(actual))\n",
    "            n+=1\n",
    "    cross_pagerank_precision_2_117.append(n1/(n1+n))\n",
    "    correct=0\n",
    "    s=0\n",
    "    n=0\n",
    "    s1=0\n",
    "    n1=0\n",
    "    for b in bussiness:\n",
    "        l=list(recommendation_b2[b].items())\n",
    "\n",
    "        l=sorted(l,key=lambda x:  -btt[b][x[0]] if x[0] in btt[b] else 0)\n",
    "        selected2=set(l[0:])\n",
    "        selected=set()\n",
    "        for r in selected2:\n",
    "            selected.add(r[0])\n",
    "        actual=set(bt_test[b]).union(set(bt_test_t[b]))\n",
    "\n",
    "        if len(selected.intersection(actual))>lk:#len(selected)/2:\n",
    "            s1+=len(b_dict[b])\n",
    "            n1+=1\n",
    "            #print(len(selected.intersection(actual)),len(selected),len(actual),\"------\")\n",
    "            correct+=1\n",
    "        else:\n",
    "            s+=len(b_dict[b])\n",
    "            #print(len(selected.intersection(actual)),len(selected),len(actual))\n",
    "            n+=1\n",
    "    cross_pagerank_recall_2_117.append(n1/(n1+n))"
   ]
  },
  {
   "cell_type": "code",
   "execution_count": 167,
   "metadata": {},
   "outputs": [
    {
     "name": "stdout",
     "output_type": "stream",
     "text": [
      "4\n",
      "3\n",
      "2\n",
      "1\n",
      "0\n"
     ]
    }
   ],
   "source": [
    "for i in range(4,-1,-1):\n",
    "    print(i)\n",
    "    a1(i)"
   ]
  },
  {
   "cell_type": "code",
   "execution_count": null,
   "metadata": {
    "collapsed": true
   },
   "outputs": [],
   "source": []
  },
  {
   "cell_type": "code",
   "execution_count": null,
   "metadata": {
    "collapsed": true
   },
   "outputs": [],
   "source": []
  },
  {
   "cell_type": "code",
   "execution_count": 34,
   "metadata": {
    "collapsed": true
   },
   "outputs": [],
   "source": [
    "# With ALS\n",
    "with open('/Users/shaily/Desktop/Fall2018/Data_Mining/Project/Sample_data/Yelp_Updated_Data/ratingDictionary1.pickle', 'rb') as handle:\n",
    "    btt = pickle.load(handle)"
   ]
  },
  {
   "cell_type": "code",
   "execution_count": 35,
   "metadata": {
    "collapsed": true
   },
   "outputs": [],
   "source": [
    "cross_pagerank_precision_2_112=[]\n",
    "pagerank_precision_2_112=[]\n",
    "cross_pagerank_recall_2_112=[]\n",
    "pagerank_recall_2_112=[]"
   ]
  },
  {
   "cell_type": "code",
   "execution_count": 36,
   "metadata": {},
   "outputs": [],
   "source": [
    "def a1(lk):\n",
    "    correct=0\n",
    "    s=0\n",
    "    n=0\n",
    "    s1=0\n",
    "    n1=0\n",
    "    for b in bussiness:\n",
    "        l=list(recommendation_b2[b].items())\n",
    "        \n",
    "        l=sorted(l,key=lambda x:  -(x[1])-(pr[x[0]]*100000)-bt2[b][x[0]]-btt[b][x[0]] if x[0] in btt[b] else -(x[1])-(pr[x[0]]*100000)-bt2[b][x[0]])\n",
    "        selected2=set(l[0:100])\n",
    "        selected=set()\n",
    "        for r in selected2:\n",
    "            selected.add(r[0])\n",
    "        actual=set(bt_test[b]).union(set(bt_test_t[b]))\n",
    "\n",
    "        if len(selected.intersection(actual))>lk:#len(selected)/2:\n",
    "            s1+=len(b_dict[b])\n",
    "            n1+=1\n",
    "            #print(len(selected.intersection(actual)),len(selected),len(actual),\"------\")\n",
    "            correct+=1\n",
    "        else:\n",
    "            s+=len(b_dict[b])\n",
    "            #print(len(selected.intersection(actual)),len(selected),len(actual))\n",
    "            n+=1\n",
    "    cross_pagerank_precision_2_112.append(n1/(n1+n))\n",
    "    correct=0\n",
    "    s=0\n",
    "    n=0\n",
    "    s1=0\n",
    "    n1=0\n",
    "    for b in bussiness:\n",
    "        l=list(recommendation_b2[b].items())\n",
    "\n",
    "        l=sorted(l,key=lambda x:-(x[1])-(pr[x[0]]*100000)-bt2[b][x[0]] if x[0] in btt[b] else -(x[1])-(pr[x[0]]*100000)-bt2[b][x[0]])\n",
    "        selected2=set(l[0:])\n",
    "        selected=set()\n",
    "        for r in selected2:\n",
    "            selected.add(r[0])\n",
    "        actual=set(bt_test[b]).union(set(bt_test_t[b]))\n",
    "\n",
    "        if len(selected.intersection(actual))>lk:#len(selected)/2:\n",
    "            s1+=len(b_dict[b])\n",
    "            n1+=1\n",
    "            #print(len(selected.intersection(actual)),len(selected),len(actual),\"------\")\n",
    "            correct+=1\n",
    "        else:\n",
    "            s+=len(b_dict[b])\n",
    "            #print(len(selected.intersection(actual)),len(selected),len(actual))\n",
    "            n+=1\n",
    "    cross_pagerank_recall_2_112.append(n1/(n1+n))"
   ]
  },
  {
   "cell_type": "code",
   "execution_count": 37,
   "metadata": {},
   "outputs": [
    {
     "name": "stdout",
     "output_type": "stream",
     "text": [
      "4\n",
      "3\n",
      "2\n",
      "1\n",
      "0\n"
     ]
    }
   ],
   "source": [
    "for i in range(4,-1,-1):\n",
    "    print(i)\n",
    "    a1(i)"
   ]
  },
  {
   "cell_type": "code",
   "execution_count": 38,
   "metadata": {
    "collapsed": true
   },
   "outputs": [],
   "source": [
    "# With Sentiment\n",
    "cross_pagerank_precision_2_113=[]\n",
    "pagerank_precision_2_113=[]\n",
    "cross_pagerank_recall_2_113=[]\n",
    "pagerank_recall_2_113=[]"
   ]
  },
  {
   "cell_type": "code",
   "execution_count": 39,
   "metadata": {
    "collapsed": true
   },
   "outputs": [],
   "source": [
    "with open('/Users/shaily/Desktop/Fall2018/Data_Mining/Project/Sample_data/Yelp_Updated_Data/sentiment.pickle', 'rb') as handle:\n",
    "    btts = pickle.load(handle)"
   ]
  },
  {
   "cell_type": "code",
   "execution_count": 40,
   "metadata": {},
   "outputs": [],
   "source": [
    "def a1(lk):\n",
    "    correct=0\n",
    "    s=0\n",
    "    n=0\n",
    "    s1=0\n",
    "    n1=0\n",
    "    for b in bussiness:\n",
    "        l=list(recommendation_b2[b].items())\n",
    "        \n",
    "        l=sorted(l,key=lambda x:  -(x[1])-(pr[x[0]]*100000)-bt2[b][x[0]]-btt[b][x[0]]-(btts[b][x[0]]*1000 if btts[b][x[0]]==1 else -btts[b][x[0]]*100) if x[0] in btt else -(x[1])-(pr[x[0]]*100000))\n",
    "        selected2=set(l[0:100])\n",
    "        selected=set()\n",
    "        for r in selected2:\n",
    "            selected.add(r[0])\n",
    "        actual=set(bt_test[b]).union(set(bt_test_t[b]))\n",
    "\n",
    "        if len(selected.intersection(actual))>lk:#len(selected)/2:\n",
    "            s1+=len(b_dict[b])\n",
    "            n1+=1\n",
    "            #print(len(selected.intersection(actual)),len(selected),len(actual),\"------\")\n",
    "            correct+=1\n",
    "        else:\n",
    "            s+=len(b_dict[b])\n",
    "            #print(len(selected.intersection(actual)),len(selected),len(actual))\n",
    "            n+=1\n",
    "    cross_pagerank_precision_2_113.append(n1/(n1+n))\n",
    "    correct=0\n",
    "    s=0\n",
    "    n=0\n",
    "    s1=0\n",
    "    n1=0\n",
    "    for b in bussiness:\n",
    "        l=list(recommendation_b2[b].items())\n",
    "\n",
    "        l=sorted(l,key=lambda x:-(x[1])-(pr[x[0]]*100000)-bt2[b][x[0]]-btt[b][x[0]]-(btts[b][x[0]]*1000 if btts[b][x[0]]==1 else -btts[b][x[0]]*100) if x[0] in btt else -(x[1])-(pr[x[0]]*100000))\n",
    "        selected2=set(l[0:])\n",
    "        selected=set()\n",
    "        for r in selected2:\n",
    "            selected.add(r[0])\n",
    "        actual=set(bt_test[b]).union(set(bt_test_t[b]))\n",
    "\n",
    "        if len(selected.intersection(actual))>lk:#len(selected)/2:\n",
    "            s1+=len(b_dict[b])\n",
    "            n1+=1\n",
    "            #print(len(selected.intersection(actual)),len(selected),len(actual),\"------\")\n",
    "            correct+=1\n",
    "        else:\n",
    "            s+=len(b_dict[b])\n",
    "            #print(len(selected.intersection(actual)),len(selected),len(actual))\n",
    "            n+=1\n",
    "    cross_pagerank_recall_2_113.append(n1/(n1+n))"
   ]
  },
  {
   "cell_type": "code",
   "execution_count": 41,
   "metadata": {},
   "outputs": [
    {
     "name": "stdout",
     "output_type": "stream",
     "text": [
      "4\n",
      "3\n",
      "2\n",
      "1\n",
      "0\n"
     ]
    }
   ],
   "source": [
    "for i in range(4,-1,-1):\n",
    "    print(i)\n",
    "    a1(i)"
   ]
  },
  {
   "cell_type": "code",
   "execution_count": 208,
   "metadata": {
    "collapsed": true
   },
   "outputs": [],
   "source": [
    "# virali combined  2\n",
    "cross_pagerank_precision_2_118=[]\n",
    "pagerank_precision_2_118=[]\n",
    "cross_pagerank_recall_2_118=[]\n",
    "pagerank_recall_2_118=[]"
   ]
  },
  {
   "cell_type": "code",
   "execution_count": 209,
   "metadata": {
    "collapsed": true
   },
   "outputs": [],
   "source": [
    "with open('/Users/shaily/Desktop/Fall2018/Data_Mining/Project/Sample_data/Yelp_Updated_Data/yelp_result_result2_pickle.pickle', 'rb') as handle:\n",
    "    yrpp = pickle.load(handle)"
   ]
  },
  {
   "cell_type": "code",
   "execution_count": 210,
   "metadata": {
    "collapsed": true
   },
   "outputs": [],
   "source": [
    "def a1(lk):\n",
    "    correct=0\n",
    "    s=0\n",
    "    n=0\n",
    "    s1=0\n",
    "    n1=0\n",
    "    for b in bussiness:\n",
    "        l=list(recommendation_b2[b].items())\n",
    "        #l=sorted(l,key=lambda x:  -(x[1])-(pr[x[0]]*100000)-bt2[b][x[0]]-btt[b][x[0]] if x[0] in btt[b] else -(x[1])-(pr[x[0]]*100000)-bt2[b][x[0]])\n",
    "        \n",
    "        l=sorted(l,key=lambda x: -yrpp[b][x[0]] if b in yrpp and x[0] in yrpp[b] else 0   )\n",
    "        selected2=set(l[0:100])\n",
    "        selected=set()\n",
    "        for r in selected2:\n",
    "            selected.add(r[0])\n",
    "        actual=set(bt_test[b]).union(set(bt_test_t[b]))\n",
    "\n",
    "        if len(selected.intersection(actual))>lk:#len(selected)/2:\n",
    "            s1+=len(b_dict[b])\n",
    "            n1+=1\n",
    "            #print(len(selected.intersection(actual)),len(selected),len(actual),\"------\")\n",
    "            correct+=1\n",
    "        else:\n",
    "            s+=len(b_dict[b])\n",
    "            #print(len(selected.intersection(actual)),len(selected),len(actual))\n",
    "            n+=1\n",
    "    cross_pagerank_precision_2_118.append(n1/(n1+n))\n",
    "    correct=0\n",
    "    s=0\n",
    "    n=0\n",
    "    s1=0\n",
    "    n1=0\n",
    "    for b in bussiness:\n",
    "        l=list(recommendation_b2[b].items())\n",
    "\n",
    "        l=sorted(l,key=lambda x:-yrpp[b][x[0]] if b in yrpp and x[0] in yrpp[b] else 0    )\n",
    "        selected2=set(l[0:])\n",
    "        selected=set()\n",
    "        for r in selected2:\n",
    "            selected.add(r[0])\n",
    "        actual=set(bt_test[b]).union(set(bt_test_t[b]))\n",
    "\n",
    "        if len(selected.intersection(actual))>lk:#len(selected)/2:\n",
    "            s1+=len(b_dict[b])\n",
    "            n1+=1\n",
    "            #print(len(selected.intersection(actual)),len(selected),len(actual),\"------\")\n",
    "            correct+=1\n",
    "        else:\n",
    "            s+=len(b_dict[b])\n",
    "            #print(len(selected.intersection(actual)),len(selected),len(actual))\n",
    "            n+=1\n",
    "    cross_pagerank_recall_2_118.append(n1/(n1+n))"
   ]
  },
  {
   "cell_type": "code",
   "execution_count": 211,
   "metadata": {},
   "outputs": [
    {
     "name": "stdout",
     "output_type": "stream",
     "text": [
      "4\n",
      "3\n",
      "2\n",
      "1\n",
      "0\n"
     ]
    }
   ],
   "source": [
    "for i in range(4,-1,-1):\n",
    "    print(i)\n",
    "    a1(i)"
   ]
  },
  {
   "cell_type": "code",
   "execution_count": null,
   "metadata": {
    "collapsed": true
   },
   "outputs": [],
   "source": []
  },
  {
   "cell_type": "code",
   "execution_count": 235,
   "metadata": {
    "collapsed": true
   },
   "outputs": [],
   "source": [
    "# virali combined all\n",
    "cross_pagerank_precision_2_119=[]\n",
    "pagerank_precision_2_119=[]\n",
    "cross_pagerank_recall_2_119=[]\n",
    "pagerank_recall_2_119=[]"
   ]
  },
  {
   "cell_type": "code",
   "execution_count": 236,
   "metadata": {
    "collapsed": true
   },
   "outputs": [],
   "source": [
    "with open('/Users/shaily/Desktop/Fall2018/Data_Mining/Project/Sample_data/Yelp_Updated_Data/yelp_result_result2_pickle.pickle', 'rb') as handle:\n",
    "    yrpp = pickle.load(handle)"
   ]
  },
  {
   "cell_type": "code",
   "execution_count": 237,
   "metadata": {
    "collapsed": true
   },
   "outputs": [],
   "source": [
    "def a1(lk):\n",
    "    correct=0\n",
    "    s=0\n",
    "    n=0\n",
    "    s1=0\n",
    "    n1=0\n",
    "    for b in bussiness:\n",
    "        l=list(recommendation_b2[b].items())\n",
    "        #l=sorted(l,key=lambda x:  -(x[1])-(pr[x[0]]*100000)-bt2[b][x[0]]-btt[b][x[0]] if x[0] in btt[b] else -(x[1])-(pr[x[0]]*100000)-bt2[b][x[0]])\n",
    "        \n",
    "        l=sorted(l,key=lambda x:(-bt2[b][x[0]]/2) -yrpp[b][x[0]] if b in yrpp and x[0] in yrpp[b] else 0   )\n",
    "        selected2=set(l[0:100])\n",
    "        selected=set()\n",
    "        for r in selected2:\n",
    "            selected.add(r[0])\n",
    "        actual=set(bt_test[b]).union(set(bt_test_t[b]))\n",
    "\n",
    "        if len(selected.intersection(actual))>lk:#len(selected)/2:\n",
    "            s1+=len(b_dict[b])\n",
    "            n1+=1\n",
    "            #print(len(selected.intersection(actual)),len(selected),len(actual),\"------\")\n",
    "            correct+=1\n",
    "        else:\n",
    "            s+=len(b_dict[b])\n",
    "            #print(len(selected.intersection(actual)),len(selected),len(actual))\n",
    "            n+=1\n",
    "    cross_pagerank_precision_2_119.append(n1/(n1+n))\n",
    "    correct=0\n",
    "    s=0\n",
    "    n=0\n",
    "    s1=0\n",
    "    n1=0\n",
    "    for b in bussiness:\n",
    "        l=list(recommendation_b2[b].items())\n",
    "\n",
    "        l=sorted(l,key=lambda x:(bt2[b][x[0]]/2) -yrpp[b][x[0]] if b in yrpp and x[0] in yrpp[b] else 0    )\n",
    "        selected2=set(l[0:])\n",
    "        selected=set()\n",
    "        for r in selected2:\n",
    "            selected.add(r[0])\n",
    "        actual=set(bt_test[b]).union(set(bt_test_t[b]))\n",
    "\n",
    "        if len(selected.intersection(actual))>lk:#len(selected)/2:\n",
    "            s1+=len(b_dict[b])\n",
    "            n1+=1\n",
    "            #print(len(selected.intersection(actual)),len(selected),len(actual),\"------\")\n",
    "            correct+=1\n",
    "        else:\n",
    "            s+=len(b_dict[b])\n",
    "            #print(len(selected.intersection(actual)),len(selected),len(actual))\n",
    "            n+=1\n",
    "    cross_pagerank_recall_2_119.append(n1/(n1+n))"
   ]
  },
  {
   "cell_type": "code",
   "execution_count": 238,
   "metadata": {},
   "outputs": [
    {
     "name": "stdout",
     "output_type": "stream",
     "text": [
      "4\n",
      "3\n",
      "2\n",
      "1\n",
      "0\n"
     ]
    }
   ],
   "source": [
    "for i in range(4,-1,-1):\n",
    "    print(i)\n",
    "    a1(i)"
   ]
  },
  {
   "cell_type": "code",
   "execution_count": 241,
   "metadata": {
    "collapsed": true
   },
   "outputs": [],
   "source": [
    "#baseline\n",
    "cross_pagerank_precision_2_120=[]\n",
    "pagerank_precision_2_120=[]\n",
    "cross_pagerank_recall_2_120=[]\n",
    "pagerank_recall_2_120=[]"
   ]
  },
  {
   "cell_type": "code",
   "execution_count": 242,
   "metadata": {
    "collapsed": true
   },
   "outputs": [],
   "source": [
    "with open('/Users/shaily/Desktop/Fall2018/Data_Mining/Project/Sample_data/Yelp_Updated_Data/yelp_result_pickle.pickle', 'rb') as handle:\n",
    "    yrpp = pickle.load(handle)"
   ]
  },
  {
   "cell_type": "code",
   "execution_count": 246,
   "metadata": {},
   "outputs": [],
   "source": [
    "def a1(lk):\n",
    "    correct=0\n",
    "    s=0\n",
    "    n=0\n",
    "    s1=0\n",
    "    n1=0\n",
    "    for b in bussiness:\n",
    "        l=list(recommendation_b2[b].items())\n",
    "        #l=sorted(l,key=lambda x:  -(x[1])-(pr[x[0]]*100000)-bt2[b][x[0]]-btt[b][x[0]] if x[0] in btt[b] else -(x[1])-(pr[x[0]]*100000)-bt2[b][x[0]])\n",
    "        \n",
    "        l=sorted(l,key=lambda x: -yrpp[b][x[0]] if b in yrpp and x[0] in yrpp[b] else 0   )\n",
    "        selected2=set(l[0:100])\n",
    "        selected=set()\n",
    "        for r in selected2:\n",
    "            selected.add(r[0])\n",
    "        actual=set(bt_test[b]).union(set(bt_test_t[b]))\n",
    "\n",
    "        if len(selected.intersection(actual))>lk:#len(selected)/2:\n",
    "            s1+=len(b_dict[b])\n",
    "            n1+=1\n",
    "            #print(len(selected.intersection(actual)),len(selected),len(actual),\"------\")\n",
    "            correct+=1\n",
    "        else:\n",
    "            s+=len(b_dict[b])\n",
    "            #print(len(selected.intersection(actual)),len(selected),len(actual))\n",
    "            n+=1\n",
    "    cross_pagerank_precision_2_120.append(n1/(n1+n))\n",
    "    correct=0\n",
    "    s=0\n",
    "    n=0\n",
    "    s1=0\n",
    "    n1=0\n",
    "    for b in bussiness:\n",
    "        l=list(recommendation_b2[b].items())\n",
    "\n",
    "        l=sorted(l,key=lambda x: -yrpp[b][x[0]] if b in yrpp and x[0] in yrpp[b] else 0    )\n",
    "        selected2=set(l[0:])\n",
    "        selected=set()\n",
    "        for r in selected2:\n",
    "            selected.add(r[0])\n",
    "        actual=set(bt_test[b]).union(set(bt_test_t[b]))\n",
    "\n",
    "        if len(selected.intersection(actual))>lk:#len(selected)/2:\n",
    "            s1+=len(b_dict[b])\n",
    "            n1+=1\n",
    "            #print(len(selected.intersection(actual)),len(selected),len(actual),\"------\")\n",
    "            correct+=1\n",
    "        else:\n",
    "            s+=len(b_dict[b])\n",
    "            #print(len(selected.intersection(actual)),len(selected),len(actual))\n",
    "            n+=1\n",
    "    cross_pagerank_recall_2_120.append(n1/(n1+n))"
   ]
  },
  {
   "cell_type": "code",
   "execution_count": 247,
   "metadata": {},
   "outputs": [
    {
     "name": "stdout",
     "output_type": "stream",
     "text": [
      "4\n",
      "3\n",
      "2\n",
      "1\n",
      "0\n"
     ]
    }
   ],
   "source": [
    "for i in range(4,-1,-1):\n",
    "    print(i)\n",
    "    a1(i)"
   ]
  },
  {
   "cell_type": "code",
   "execution_count": 283,
   "metadata": {
    "collapsed": true
   },
   "outputs": [],
   "source": [
    "#2_2\n",
    "cross_pagerank_precision_2_122=[]\n",
    "pagerank_precision_2_122=[]\n",
    "cross_pagerank_recall_2_122=[]\n",
    "pagerank_recall_2_122=[]"
   ]
  },
  {
   "cell_type": "code",
   "execution_count": 284,
   "metadata": {
    "collapsed": true
   },
   "outputs": [],
   "source": [
    "with open('/Users/shaily/Desktop/Fall2018/Data_Mining/Project/Sample_data/Yelp_Updated_Data/yelp_result_clustering2_2_2.pickle', 'rb') as handle:\n",
    "    yrpp = pickle.load(handle)"
   ]
  },
  {
   "cell_type": "code",
   "execution_count": 285,
   "metadata": {
    "collapsed": true
   },
   "outputs": [],
   "source": [
    "\n",
    "\n",
    "def a1(lk):\n",
    "    correct=0\n",
    "    s=0\n",
    "    n=0\n",
    "    s1=0\n",
    "    n1=0\n",
    "    for b in bussiness:\n",
    "        l=list(recommendation_b2[b].items())\n",
    "        #l=sorted(l,key=lambda x:  -(x[1])-(pr[x[0]]*100000)-bt2[b][x[0]]-btt[b][x[0]] if x[0] in btt[b] else -(x[1])-(pr[x[0]]*100000)-bt2[b][x[0]])\n",
    "        \n",
    "        l=sorted(l,key=lambda x: -yrpp[b][x[0]] if b in yrpp and x[0] in yrpp[b] else 0   )\n",
    "        selected2=set(l[0:100])\n",
    "        selected=set()\n",
    "        for r in selected2:\n",
    "            selected.add(r[0])\n",
    "        actual=set(bt_test[b]).union(set(bt_test_t[b]))\n",
    "\n",
    "        if len(selected.intersection(actual))>lk:#len(selected)/2:\n",
    "            s1+=len(b_dict[b])\n",
    "            n1+=1\n",
    "            #print(len(selected.intersection(actual)),len(selected),len(actual),\"------\")\n",
    "            correct+=1\n",
    "        else:\n",
    "            s+=len(b_dict[b])\n",
    "            #print(len(selected.intersection(actual)),len(selected),len(actual))\n",
    "            n+=1\n",
    "    cross_pagerank_precision_2_122.append(n1/(n1+n))\n",
    "    correct=0\n",
    "    s=0\n",
    "    n=0\n",
    "    s1=0\n",
    "    n1=0\n",
    "    for b in bussiness:\n",
    "        l=list(recommendation_b2[b].items())\n",
    "\n",
    "        l=sorted(l,key=lambda x: -yrpp[b][x[0]] if b in yrpp and x[0] in yrpp[b] else 0    )\n",
    "        selected2=set(l[0:])\n",
    "        selected=set()\n",
    "        for r in selected2:\n",
    "            selected.add(r[0])\n",
    "        actual=set(bt_test[b]).union(set(bt_test_t[b]))\n",
    "\n",
    "        if len(selected.intersection(actual))>lk:#len(selected)/2:\n",
    "            s1+=len(b_dict[b])\n",
    "            n1+=1\n",
    "            #print(len(selected.intersection(actual)),len(selected),len(actual),\"------\")\n",
    "            correct+=1\n",
    "        else:\n",
    "            s+=len(b_dict[b])\n",
    "            #print(len(selected.intersection(actual)),len(selected),len(actual))\n",
    "            n+=1\n",
    "    cross_pagerank_recall_2_122.append(n1/(n1+n))\n",
    "\n"
   ]
  },
  {
   "cell_type": "code",
   "execution_count": 286,
   "metadata": {},
   "outputs": [
    {
     "name": "stdout",
     "output_type": "stream",
     "text": [
      "4\n",
      "3\n",
      "2\n",
      "1\n",
      "0\n"
     ]
    }
   ],
   "source": [
    "for i in range(4,-1,-1):\n",
    "    print(i)\n",
    "    a1(i)"
   ]
  },
  {
   "cell_type": "code",
   "execution_count": 335,
   "metadata": {
    "collapsed": true
   },
   "outputs": [],
   "source": [
    "#2_3\n",
    "cross_pagerank_precision_2_123=[]\n",
    "pagerank_precision_2_123=[]\n",
    "cross_pagerank_recall_2_123=[]\n",
    "pagerank_recall_2_123=[]"
   ]
  },
  {
   "cell_type": "code",
   "execution_count": 336,
   "metadata": {
    "collapsed": true
   },
   "outputs": [],
   "source": [
    "with open('/Users/shaily/Desktop/Fall2018/Data_Mining/Project/Sample_data/Yelp_Updated_Data/yelp_result_clustering3.pickle', 'rb') as handle:\n",
    "    yrpp = pickle.load(handle)"
   ]
  },
  {
   "cell_type": "code",
   "execution_count": 337,
   "metadata": {
    "collapsed": true
   },
   "outputs": [],
   "source": [
    "def a1(lk):\n",
    "    correct=0\n",
    "    s=0\n",
    "    n=0\n",
    "    s1=0\n",
    "    n1=0\n",
    "    for b in bussiness:\n",
    "        l=list(recommendation_b2[b].items())\n",
    "        #l=sorted(l,key=lambda x:  -(x[1])-(pr[x[0]]*100000)-bt2[b][x[0]]-btt[b][x[0]] if x[0] in btt[b] else -(x[1])-(pr[x[0]]*100000)-bt2[b][x[0]])\n",
    "        \n",
    "        l=sorted(l,key=lambda x: -yrpp[b][x[0]] if b in yrpp and x[0] in yrpp[b] else 0   )\n",
    "        selected2=set(l[0:100])\n",
    "        selected=set()\n",
    "        for r in selected2:\n",
    "            selected.add(r[0])\n",
    "        actual=set(bt_test[b]).union(set(bt_test_t[b]))\n",
    "\n",
    "        if len(selected.intersection(actual))>lk:#len(selected)/2:\n",
    "            s1+=len(b_dict[b])\n",
    "            n1+=1\n",
    "            #print(len(selected.intersection(actual)),len(selected),len(actual),\"------\")\n",
    "            correct+=1\n",
    "        else:\n",
    "            s+=len(b_dict[b])\n",
    "            #print(len(selected.intersection(actual)),len(selected),len(actual))\n",
    "            n+=1\n",
    "    cross_pagerank_precision_2_123.append(n1/(n1+n))\n",
    "    correct=0\n",
    "    s=0\n",
    "    n=0\n",
    "    s1=0\n",
    "    n1=0\n",
    "    for b in bussiness:\n",
    "        l=list(recommendation_b2[b].items())\n",
    "\n",
    "        l=sorted(l,key=lambda x: -yrpp[b][x[0]] if b in yrpp and x[0] in yrpp[b] else 0    )\n",
    "        selected2=set(l[0:])\n",
    "        selected=set()\n",
    "        for r in selected2:\n",
    "            selected.add(r[0])\n",
    "        actual=set(bt_test[b]).union(set(bt_test_t[b]))\n",
    "\n",
    "        if len(selected.intersection(actual))>lk:#len(selected)/2:\n",
    "            s1+=len(b_dict[b])\n",
    "            n1+=1\n",
    "            #print(len(selected.intersection(actual)),len(selected),len(actual),\"------\")\n",
    "            correct+=1\n",
    "        else:\n",
    "            s+=len(b_dict[b])\n",
    "            #print(len(selected.intersection(actual)),len(selected),len(actual))\n",
    "            n+=1\n",
    "    cross_pagerank_recall_2_123.append(n1/(n1+n))\n",
    "\n",
    "\n"
   ]
  },
  {
   "cell_type": "code",
   "execution_count": 338,
   "metadata": {},
   "outputs": [
    {
     "name": "stdout",
     "output_type": "stream",
     "text": [
      "4\n",
      "3\n",
      "2\n",
      "1\n",
      "0\n"
     ]
    }
   ],
   "source": [
    "for i in range(4,-1,-1):\n",
    "    print(i)\n",
    "    a1(i)"
   ]
  },
  {
   "cell_type": "code",
   "execution_count": null,
   "metadata": {
    "collapsed": true
   },
   "outputs": [],
   "source": []
  },
  {
   "cell_type": "code",
   "execution_count": null,
   "metadata": {
    "collapsed": true
   },
   "outputs": [],
   "source": []
  },
  {
   "cell_type": "code",
   "execution_count": null,
   "metadata": {
    "collapsed": true
   },
   "outputs": [],
   "source": []
  },
  {
   "cell_type": "code",
   "execution_count": 341,
   "metadata": {},
   "outputs": [
    {
     "data": {
      "image/png": "[encoded data removed]",
      "text/plain": [
       "<matplotlib.figure.Figure at 0x168fb7160>"
      ]
     },
     "metadata": {},
     "output_type": "display_data"
    }
   ],
   "source": [
    "#individual\n",
    "import matplotlib.pyplot as plt\n",
    "a,=plt.plot([1,2,3,4,5],cross_pagerank_precision_2[::-1],label=\"Experiment D and F\")\n",
    "#b,=plt.plot(cross_pagerank_precision_2_120[::-1],label=\"Baseline\")\n",
    "e,=plt.plot([1,2,3,4,5],cross_pagerank_precision_2_11[::-1],label=\"Experiment E\")\n",
    "\n",
    "g,=plt.plot([1,2,3,4,5],cross_pagerank_precision_2_117[::-1],label=\"Experiment G\")\n",
    "i,=plt.plot([1,2,3,4,5],cross_pagerank_precision_2_118[::-1],label=\"Experiment B\")\n",
    "j,=plt.plot([1,2,3,4,5],cross_pagerank_precision_2_122[::-1],label=\"Experiment C\")\n",
    "plt.legend(handles=[a,e,g,i,j])\n",
    "plt.ylabel(\"Precision\")\n",
    "plt.xlabel(\"k\")\n",
    "\n",
    "plt.show()"
   ]
  },
  {
   "cell_type": "code",
   "execution_count": 342,
   "metadata": {},
   "outputs": [
    {
     "data": {
      "image/png": "[encoded data removed]",
      "text/plain": [
       "<matplotlib.figure.Figure at 0x166fc6208>"
      ]
     },
     "metadata": {},
     "output_type": "display_data"
    }
   ],
   "source": [
    "import matplotlib.pyplot as plt\n",
    "\n",
    "b,=plt.plot([1,2,3,4,5],cross_pagerank_precision_2_120[::-1],label=\"Experiment A\")\n",
    "\n",
    "#a,=plt.plot([1,2,3,4,5],cross_pagerank_precision_2[::-1],label=\"Experiment D and F\")\n",
    "d,=plt.plot([1,2,3,4,5],cross_pagerank_precision_2_1[::-1],label=\"Experiment D, E and F\")\n",
    "c,=plt.plot([1,2,3,4,5],cross_pagerank_precision_2_112[::-1],label=\"Experiment D, E, F and G \")\n",
    "#d,=plt.plot(cross_pagerank_precision_2_119[::-1],label=\"Experiment 3 (Cross-Recommendation PageRank DecisioTree ALS KNN)\")\n",
    "\n",
    "#e,=plt.plot(cross_pagerank_precision_2_11[::-1],label=\"Experiment 5 (Decision Tree)\")\n",
    "\n",
    "#g,=plt.plot(cross_pagerank_precision_2_117[::-1],label=\"ALS\")\n",
    "#i,=plt.plot(cross_pagerank_precision_2_118[::-1],label=\"Virali 2\")\n",
    "\n",
    "#g,=plt.plot([1,2,3,4,5],cross_pagerank_precision_2_117[::-1],label=\"Experiment G\")\n",
    "i,=plt.plot([1,2,3,4,5],cross_pagerank_precision_2_118[::-1],label=\"Experiment B\")\n",
    "\n",
    "\n",
    "\n",
    "plt.legend(handles=[b,d,c,i])\n",
    "plt.ylabel(\"Precision\")\n",
    "plt.xlabel(\"k\")\n",
    "plt.show()"
   ]
  },
  {
   "cell_type": "code",
   "execution_count": 344,
   "metadata": {},
   "outputs": [
    {
     "name": "stdout",
     "output_type": "stream",
     "text": [
      "At least Actual Users, Experiment A, Experiment D and F, Experiment 3 \n",
      "5 , 0.22557471264367815 0.13505747126436782 , 0.22557471264367815 , 0.13505747126436782\n",
      "4 , 0.3390804597701149 0.1925287356321839 , 0.3390804597701149 , 0.1925287356321839\n",
      "3 , 0.47701149425287354 0.27873563218390807 , 0.47701149425287354 , 0.27873563218390807\n",
      "2 , 0.646551724137931 0.46120689655172414 , 0.646551724137931 , 0.46120689655172414\n",
      "1 , 0.860632183908046 0.7385057471264368 , 0.860632183908046 , 0.7385057471264368\n"
     ]
    }
   ],
   "source": [
    "print(\"At least Actual Users, Experiment A, Experiment D and F, Experiment 3 \")\n",
    "for i in range(0,5):\n",
    "    print(4-i+1,\",\",cross_pagerank_precision_2_112[i],cross_pagerank_precision_2_118[i],\",\",cross_pagerank_precision_2_112[i],\",\",cross_pagerank_precision_2_118[i])"
   ]
  },
  {
   "cell_type": "code",
   "execution_count": null,
   "metadata": {
    "collapsed": true
   },
   "outputs": [],
   "source": []
  },
  {
   "cell_type": "code",
   "execution_count": null,
   "metadata": {
    "collapsed": true
   },
   "outputs": [],
   "source": []
  },
  {
   "cell_type": "code",
   "execution_count": 288,
   "metadata": {},
   "outputs": [
    {
     "data": {
      "image/png": "[encoded data removed]",
      "text/plain": [
       "<matplotlib.figure.Figure at 0x162b073c8>"
      ]
     },
     "metadata": {},
     "output_type": "display_data"
    }
   ],
   "source": [
    "import matplotlib.pyplot as plt\n",
    "#a,=plt.plot(cross_pagerank_precision_2[::-1],label=\"Experiment 1 (Cross-Recommendation PageRank)\")\n",
    "#b,=plt.plot(cross_pagerank_precision_2_1[::-1],label=\"Experiment 2 (Cross-Recommendation PageRank DecisioTree)\")\n",
    "#c,=plt.plot(cross_pagerank_precision_2_112[::-1],label=\"Experiment 3 (Cross-Recommendation PageRank DecisioTree ALS)\")\n",
    "#d,=plt.plot(cross_pagerank_precision_2_119[::-1],label=\"Experiment 3 (Cross-Recommendation PageRank DecisioTree ALS KNN)\")\n",
    "\n",
    "#e,=plt.plot(cross_pagerank_precision_2_11[::-1],label=\"Experiment 5 (Decision Tree)\")\n",
    "\n",
    "#g,=plt.plot(cross_pagerank_precision_2_117[::-1],label=\"ALS\")\n",
    "i,=plt.plot(cross_pagerank_precision_2_118[::-1],label=\"Virali 2\")\n",
    "j,=plt.plot(cross_pagerank_precision_2_121[::-1],label=\"2_1\")\n",
    "k,=plt.plot(cross_pagerank_precision_2_122[::-1],label=\"2_2\")\n",
    "plt.legend(handles=[i,j,k])\n",
    "plt.ylabel(\"Precision\")\n",
    "plt.xlabel(\"At Least Actual Visits\")\n",
    "plt.show()"
   ]
  },
  {
   "cell_type": "code",
   "execution_count": null,
   "metadata": {
    "collapsed": true
   },
   "outputs": [],
   "source": []
  },
  {
   "cell_type": "code",
   "execution_count": null,
   "metadata": {
    "collapsed": true
   },
   "outputs": [],
   "source": []
  }
 ],
 "metadata": {
  "kernelspec": {
   "display_name": "Python 3",
   "language": "python",
   "name": "python3"
  },
  "language_info": {
   "codemirror_mode": {
    "name": "ipython",
    "version": 3
   },
   "file_extension": ".py",
   "mimetype": "text/x-python",
   "name": "python",
   "nbconvert_exporter": "python",
   "pygments_lexer": "ipython3",
   "version": "3.6.1"
  }
 },
 "nbformat": 4,
 "nbformat_minor": 2
}
